{
 "cells": [
  {
   "cell_type": "code",
   "execution_count": 1,
   "id": "88c4083a",
   "metadata": {},
   "outputs": [],
   "source": [
    "import numpy as np\n",
    "import scipy as sp\n",
    "import pandas as pd\n",
    "import itertools\n",
    "import json"
   ]
  },
  {
   "cell_type": "markdown",
   "id": "cb9ef07d",
   "metadata": {},
   "source": [
    "Обозначим все узлы дорожной сети числами от 0 до 56, вокзал будет 0. Введем матрицу $57\\times 57$ стоимости перемещения $A_{ij}$, равную стоимости перемещения между узлами с номерами $i,j$. Введем также вектор $B_j$, который соответствует числу людей в экскурсионной группе для узла $j$. За множество $S$ обозначим номера всех достопримечательностей."
   ]
  },
  {
   "cell_type": "code",
   "execution_count": 2,
   "id": "65e96bc5",
   "metadata": {},
   "outputs": [],
   "source": [
    "MAX_INT = 100\n",
    "nodes_frame = pd.read_csv(\"task-2-nodes.csv\", header=None, index_col=0).sort_values(1)\n",
    "edges_frame = pd.read_csv(\"task-2-adjacency_matrix.csv\", index_col=0, na_values=[\"-\"])\n",
    "\n",
    "# Sorting nodes such that initial is 0, and all crossings are at the beginning\n",
    "initial_node = \"Вокзал\"\n",
    "node_names = nodes_frame.index.tolist()\n",
    "node_names.remove(initial_node)\n",
    "node_names.insert(0, initial_node)\n",
    "assert len(node_names) == 57 and node_names[0]==initial_node, \"Sonething goes wrong with reordering initial node\"\n",
    "\n",
    "A = edges_frame.reindex(index=node_names, columns=node_names).to_numpy(na_value=MAX_INT, copy=True).astype(int)\n",
    "B = nodes_frame.reindex(index=node_names).to_numpy(na_value=MAX_INT, copy=True).astype(int).reshape((-1))\n",
    "sights_start = np.searchsorted(B, 0, side='right')  # Start of nodes which should be visited only once"
   ]
  },
  {
   "cell_type": "code",
   "execution_count": 3,
   "id": "1b5917bc",
   "metadata": {},
   "outputs": [
    {
     "data": {
      "text/plain": [
       "array([[  0, 100, 100, ..., 100, 100, 100],\n",
       "       [100,   0,   5, ..., 100, 100, 100],\n",
       "       [100,   5,   0, ..., 100, 100, 100],\n",
       "       ...,\n",
       "       [100, 100, 100, ...,   0, 100,   3],\n",
       "       [100, 100, 100, ..., 100,   0, 100],\n",
       "       [100, 100, 100, ...,   3, 100,   0]])"
      ]
     },
     "execution_count": 3,
     "metadata": {},
     "output_type": "execute_result"
    }
   ],
   "source": [
    "A"
   ]
  },
  {
   "cell_type": "code",
   "execution_count": 4,
   "id": "97590e4c",
   "metadata": {},
   "outputs": [
    {
     "data": {
      "text/plain": [
       "array([0, 0, 0, 0, 0, 0, 0, 0, 0, 0, 0, 0, 0, 0, 0, 0, 0, 0, 0, 0, 0, 0,\n",
       "       2, 2, 2, 2, 2, 2, 2, 2, 2, 2, 2, 2, 2, 3, 3, 3, 3, 3, 3, 3, 3, 3,\n",
       "       5, 5, 5, 5, 5, 5, 5, 5, 5, 9, 9, 9, 9])"
      ]
     },
     "execution_count": 4,
     "metadata": {},
     "output_type": "execute_result"
    }
   ],
   "source": [
    "B"
   ]
  },
  {
   "cell_type": "code",
   "execution_count": 5,
   "id": "2ba257f8",
   "metadata": {},
   "outputs": [
    {
     "data": {
      "text/plain": [
       "35"
      ]
     },
     "execution_count": 5,
     "metadata": {},
     "output_type": "execute_result"
    }
   ],
   "source": [
    "len(list(*np.where(B)))"
   ]
  },
  {
   "cell_type": "markdown",
   "id": "042d5ea8",
   "metadata": {},
   "source": [
    "Поскольку имеется ограничение в 15 тактов, заведем для каждого автобуса векторы как в отборочной задаче, однако допустим, чтобы вершины повторялись. Тогда нам потребуется отжиг $15 \\cdot 14 \\cdot 57 = 11970$ кубитов. Это довольно-таки много, и асимптотика также плохая.\n",
    "\n",
    "По сути, минимально нам требуется закодировать маршрут каждого автобуса. Для этого достаточно указать 14 промежуточных вершин, подразумевая что 0-ая и 15-ая это вокзал. Как минимум нам требуется $15 \\cdot 14 = 210$ дискретных переменных от 0 до 56. В лучшем случае, используя двочную кодировку нам потребуется $\\lceil \\log_2 57 \\rceil = 6$ кубитов, что дает вменяемый размер задачи $15 \\cdot 14 \\cdot 6 = 1260$. Проблема может возникнуть на этапе вычисления выражений\n",
    "$$\n",
    "a_{v^b_i, v^b_j} = \\sum_{\\alpha, \\beta} a_{\\alpha, \\beta}\\delta(\\alpha, v^b_i) \\delta(\\beta, v^b_j)\n",
    "$$\n",
    "Если $\\alpha = \\sum_{i=0}^{5} \\alpha[i] 2^{i}$, а $v$ закодировано в виде 6 бит так же ($v = \\sum_{i=0}^5 v[i]2^i$), имеем\n",
    "$$\n",
    "\\delta(\\alpha, v) = \\prod_{i=0}^{5} (v[i]\\cdot \\alpha[i] + (1-v[i])\\cdot(1 - \\alpha[i]))\n",
    "$$"
   ]
  },
  {
   "cell_type": "markdown",
   "id": "46404983",
   "metadata": {},
   "source": [
    "## Прямолинейный метод кодирования"
   ]
  },
  {
   "cell_type": "markdown",
   "id": "0a4c72ae",
   "metadata": {},
   "source": [
    "**Важно:** мы будем предполагать, что автобусу запрещено стоять на достопримечательности."
   ]
  },
  {
   "cell_type": "markdown",
   "id": "94297642",
   "metadata": {},
   "source": [
    "Заведем бинарный вектор $v^b_{ij}$, где $b\\in\\{0,\\dots, 14\\}$, $i\\in \\{1,\\dots, 14\\}$ и $j\\in\\{0,\\dots, 57\\}$, и\n",
    "$$\n",
    "v^b_{ij} = \\begin{cases}\n",
    "    1, & \\text{если $b$-й автобус на $i$ такте перемещается в вершину $j$}, \\\\\n",
    "    0, & \\text{иначе}.\n",
    "\\end{cases}\n",
    "$$\n",
    "\n",
    "В таком случае имеются следующее естественное ограничение:\n",
    "$$\n",
    "\\forall b, i \\hookrightarrow \\sum_{j} v^b_{ij} = 1,\n",
    "$$\n",
    "выражающее собой тот факт, что на $i$-м такте автобус находится хотя бы в одной вершине.\n",
    "\n",
    "Его функция потерь есть\n",
    "$$\n",
    "L_v := \\sum_{b,i} \\left( \\sum_j v^b_{ij} - 1 \\right)^2 = \\sum_{b,i} \\left( \\sum_{j,j'} v^b_{ij}v^b_{ij'} - 2 \\sum_j v^b_{ij} + 1 \\right)\n",
    "$$\n",
    "\n",
    "Далее определим условия в виде ограничений.\n",
    "1. Автобусов уже 15. Чтобы не привысить вместимость, необходимо выполнить условие\n",
    "$$\n",
    "\\forall b \\hookrightarrow \\sum_{j} B_j \\sum_{i} v^b_{ij} \\leq 10\n",
    "$$\n",
    "Вводим дополнительные переменные - число занятых мест в виде one-hot-encoding, $y^b_k = 1$ если в автобусе $b$ занято $k$ мест, $k=0,\\dots,10$. Ограничения такой кодировки есть\n",
    "$$\n",
    "\\forall b \\hookrightarrow \\sum_k y^b_k = 1,\n",
    "$$\n",
    "что соответствует потерям\n",
    "$$\n",
    "L_y := \\sum_b \\left( \\sum_{k} y^b_k  - 1 \\right)^2 = \\sum_b \\left( \\sum_{k,k'} y^b_k y^b_{k'} - 2\\sum_k y^b_k + 1 \\right) .\n",
    "$$\n",
    "Тогда функция потерь этого пункта есть\n",
    "$$\n",
    "L_1 := \\sum_b \\left( \\sum_{i,j} B_j v^{b}_{ij} - \\sum_k k y^b_k \\right)^2 = \\sum_b \\left( \\sum_{i,j,i',j'} B_jB_{j'} v^{b}_{ij}v^{b}_{i'j'} + \\sum_{k,k'} kk' y^b_k y^b_{k'} - 2\\sum_{i,j,k} B_j k v^{b}_{ij} y^b_k \\right)\n",
    "$$\n",
    "\n",
    "2. Достопримечательности должны быть посещены ровно 1 раз (и нельзя в них стоять)\n",
    "$$\n",
    "\\forall j \\in S \\hookrightarrow \\sum_{b,i} v^b_{ij} = 1\n",
    "$$\n",
    "Соответственно потери есть\n",
    "$$\n",
    "L_2 := \\sum_{j\\in S} \\left(\\sum_{b,i} v^b_{ij} - 1 \\right)^2 = \\sum_{j\\in S} \\left(\\sum_{b,i,b',i'} v^{b}_{ij}v^{b'}_{i'j} - 2\\sum_{b,i} v^b_{ij} + 1 \\right)\n",
    "$$\n",
    "\n",
    "3. На узле (кроме вокзала) не более 1 машины\n",
    "$$\n",
    "\\forall i, j \\neq 0 \\hookrightarrow \\sum_{b} v^b_{i,j} \\leq 1.\n",
    "$$\n",
    "Это эффективно соответствует функции потерь\n",
    "$$\n",
    "L_3 := \\sum_{i,j\\neq 0} \\sum_{b_1\\neq b_2} v^{b_1}_{ij} v^{b_2}_{ij}\n",
    "$$\n",
    "\n",
    "Минимизировать требуется функцию (старт и финиш на вокзале):\n",
    "$$\n",
    "H := \\sum_{b} \\left( \\sum_j A_{0j}v^b_{1j} + \\sum_{i=1}^{13} \\sum_{j,j'} A_{jj'} v^b_{ij} v^b_{(i+1)j'} + \\sum_j A_{j0} v^b_{14j} \\right)\n",
    "$$"
   ]
  },
  {
   "cell_type": "code",
   "execution_count": 6,
   "id": "4714e3c0",
   "metadata": {},
   "outputs": [],
   "source": [
    "NUM_BUSES = 15\n",
    "MAX_PEOPLE = 10\n",
    "MAX_TACTS = 15\n",
    "NUM_TACTS = MAX_TACTS - 1\n",
    "NUM_NODES = len(node_names)\n",
    "NUM_PEOPLE = MAX_PEOPLE + 1\n",
    "\n",
    "# Array will be encoded as {v[b,i,j], y[b,k]}\n",
    "# b = 0,...,NUM_BUSES-1\n",
    "# i = 1,...,NUM_TACTS-1\n",
    "# j = 0,...,NUM_NODES-1\n",
    "# k = 0,...,MAX_PEOPLE\n",
    "\n",
    "def get_index(inp : list) -> int:\n",
    "    \"\"\"\n",
    "    Returns integer index in big array of element v,b,i,j or y,b,k\n",
    "    \"\"\"\n",
    "    var = inp\n",
    "    if var[0] == \"v\":\n",
    "        return (MAX_TACTS-1)*NUM_NODES*int(var[1]) + NUM_NODES*(int(var[2]) - 1) + int(var[3])\n",
    "    elif var[0] == \"y\":\n",
    "        return NUM_BUSES*NUM_TACTS*NUM_NODES + (MAX_PEOPLE + 1)*int(var[1]) + int(var[2])"
   ]
  },
  {
   "cell_type": "code",
   "execution_count": 7,
   "id": "bcc31f66",
   "metadata": {},
   "outputs": [],
   "source": [
    "SHAPE = NUM_BUSES*NUM_TACTS*NUM_NODES + NUM_BUSES*NUM_PEOPLE\n",
    "H = np.zeros((SHAPE, SHAPE))\n",
    "for b, j in itertools.product(range(NUM_BUSES), range(NUM_NODES)):\n",
    "    ind = get_index([\"v\",b,1,j])\n",
    "    H[ind, ind] += A[0,j]\n",
    "    ind = get_index([\"v\",b,NUM_TACTS,j])\n",
    "    H[ind, ind] += A[j,0]\n",
    "\n",
    "for b, i, j, jp in itertools.product(range(NUM_BUSES), range(1,MAX_TACTS-1), range(NUM_NODES), range(NUM_NODES)):\n",
    "    H[get_index([\"v\",b,i,j]), get_index([\"v\",b,i+1,jp])] += A[j,jp]"
   ]
  },
  {
   "cell_type": "code",
   "execution_count": 8,
   "id": "93e8329c",
   "metadata": {},
   "outputs": [],
   "source": [
    "Lv = np.zeros((SHAPE, SHAPE))\n",
    "for b, i, j in itertools.product(range(NUM_BUSES), range(1,MAX_TACTS), range(NUM_NODES)):\n",
    "    Lv[get_index([\"v\",b,i,j]), get_index([\"v\",b,i,j])] -= 2\n",
    "for b, i, j, jp in itertools.product(range(NUM_BUSES), range(1,MAX_TACTS), range(NUM_NODES), range(NUM_NODES)):\n",
    "    Lv[get_index([\"v\",b,i,j]), get_index([\"v\",b,i,jp])] += 1"
   ]
  },
  {
   "cell_type": "code",
   "execution_count": 9,
   "id": "563b5601",
   "metadata": {},
   "outputs": [],
   "source": [
    "Ly = np.zeros((SHAPE, SHAPE))\n",
    "for b, k in itertools.product(range(NUM_BUSES), range(NUM_PEOPLE)):\n",
    "    ind = get_index([\"y\", b, k])\n",
    "    Ly[ind, ind] -= 2\n",
    "    \n",
    "for b, k, kp in itertools.product(range(NUM_BUSES), range(NUM_PEOPLE), range(NUM_PEOPLE)):\n",
    "    Ly[get_index([\"y\", b, k]), get_index([\"y\", b, kp])] += 1"
   ]
  },
  {
   "cell_type": "code",
   "execution_count": 10,
   "id": "a5a37f2b",
   "metadata": {},
   "outputs": [],
   "source": [
    "L1 = np.zeros((SHAPE, SHAPE))\n",
    "for b in range(NUM_BUSES):\n",
    "    for i,ip,j,jp in itertools.product(range(1,MAX_TACTS), range(1,MAX_TACTS), \n",
    "                                       range(sights_start, NUM_NODES), range(sights_start, NUM_NODES)):\n",
    "        L1[get_index([\"v\", b, i, j]), get_index([\"v\", b, ip, jp])] += B[j]*B[jp]\n",
    "    \n",
    "    for k,kp in itertools.product(range(1, NUM_PEOPLE), range(1, NUM_PEOPLE)):\n",
    "        L1[get_index([\"y\", b, k]), get_index([\"y\", b, kp])] += k*kp\n",
    "        \n",
    "    for i,j,k in itertools.product(range(1, MAX_TACTS), range(sights_start, NUM_NODES), range(1, NUM_PEOPLE)):\n",
    "        L1[get_index([\"v\", b, i, j]), get_index([\"y\", b, k])] -= 2 * B[j] * k"
   ]
  },
  {
   "cell_type": "code",
   "execution_count": 11,
   "id": "025398fc",
   "metadata": {},
   "outputs": [],
   "source": [
    "L2 = np.zeros((SHAPE, SHAPE))\n",
    "for j in range(sights_start, NUM_NODES):\n",
    "    for b,i in itertools.product(range(NUM_BUSES), range(1, MAX_TACTS)):\n",
    "        ind = get_index([\"v\", b, i, j])\n",
    "        L2[ind, ind] -= 2\n",
    "        for bp,ip in itertools.product(range(NUM_BUSES), range(1, MAX_TACTS)):\n",
    "            ind2 = get_index([\"v\", bp, ip, j])\n",
    "            L2[ind, ind2] += 1"
   ]
  },
  {
   "cell_type": "code",
   "execution_count": 12,
   "id": "b7547003",
   "metadata": {},
   "outputs": [],
   "source": [
    "L3 = np.zeros((SHAPE, SHAPE))\n",
    "for i,j in itertools.product(range(1, MAX_TACTS), range(1, NUM_NODES)):\n",
    "    for b,bp in itertools.combinations(range(NUM_BUSES), 2):\n",
    "        L3[get_index([\"v\", b, i, j]), get_index([\"v\", bp, i, j])] += 1"
   ]
  },
  {
   "cell_type": "code",
   "execution_count": 13,
   "id": "f47363b4",
   "metadata": {},
   "outputs": [],
   "source": [
    "NUM_SIGHTS = NUM_NODES - sights_start\n",
    "Lv_ft = NUM_BUSES * NUM_TACTS\n",
    "Ly_ft = NUM_BUSES\n",
    "L2_ft = NUM_SIGHTS"
   ]
  },
  {
   "cell_type": "code",
   "execution_count": 286,
   "id": "ef38a288",
   "metadata": {},
   "outputs": [],
   "source": [
    "#with open(\"Qmat.txt\", mode='wt') as out_f:\n",
    "    out_f.write(f\"{SHAPE} {len(Q.row)}\\n\")\n",
    "    for c,r,d in zip(Q.col, Q.row, Q.data):\n",
    "        out_f.write(f\"{r+1} {c+1} {d}\\n\")"
   ]
  },
  {
   "cell_type": "code",
   "execution_count": 188,
   "id": "1f41ec65",
   "metadata": {},
   "outputs": [
    {
     "data": {
      "text/plain": [
       "array([[  0.,   0.,   0., ...,   0.,   0.,   0.],\n",
       "       [  0., 100.,   0., ...,   0.,   0.,   0.],\n",
       "       [  0.,   0., 100., ...,   0.,   0.,   0.],\n",
       "       ...,\n",
       "       [  0.,   0.,   0., ..., 100.,   0.,   0.],\n",
       "       [  0.,   0.,   0., ...,   0., 100.,   0.],\n",
       "       [  0.,   0.,   0., ...,   0.,   0., 100.]])"
      ]
     },
     "execution_count": 188,
     "metadata": {},
     "output_type": "execute_result"
    }
   ],
   "source": [
    "# ARR_SHAPE_V = (NUM_BUSES, NUM_TACTS, NUM_NODES)\n",
    "# SHAPE_V = NUM_BUSES*NUM_TACTS*NUM_NODES\n",
    "# ARR_SHAPE_Y = (NUM_BUSES, NUM_PEOPLE)\n",
    "# SHAPE_Y = NUM_BUSES*NUM_PEOPLE\n",
    "\n",
    "# Hij = np.zeros((NUM_TACTS, NUM_NODES, NUM_TACTS, NUM_NODES))\n",
    "# Hij[0,:,0,:] = np.diag(A[0,:])    # first term\n",
    "# Hij[-1,:,-1,:] = np.diag(A[:,0])  # last term\n",
    "# for i in range(NUM_TACTS - 1):\n",
    "#     Hij[i,:,i+1,:] += A\n",
    "# Ht = np.reshape(np.einsum(\"ab,ijkl->aijbkl\", np.eye(NUM_BUSES), Hij), (SHAPE_V, SHAPE_V))\n",
    "\n",
    "# np.reshape(Hij, (NUM_TACTS*NUM_NODES, NUM_TACTS*NUM_NODES))"
   ]
  },
  {
   "cell_type": "code",
   "execution_count": 28,
   "id": "5ba08c9f",
   "metadata": {},
   "outputs": [],
   "source": [
    "def check_constraints(Lmat, vec, free_term=0):\n",
    "    return vec.T @ Lmat @ vec + free_term"
   ]
  },
  {
   "cell_type": "code",
   "execution_count": 27,
   "id": "f8087f4b",
   "metadata": {},
   "outputs": [],
   "source": [
    "def print_routes(vec):\n",
    "    for b in range(NUM_BUSES):\n",
    "        print(f\"Bus #{b} follows the next route:\")\n",
    "        route = []\n",
    "        for i in range(1, MAX_TACTS):\n",
    "            route.append(list(*np.where(vec[get_index([\"v\", b, i, 0]):get_index([\"v\", b, i+1, 0])])))\n",
    "        print(route)\n",
    "        print(\"It carries \" + str(list(*np.where(vec[get_index([\"y\", b, 0]):get_index([\"y\", b, NUM_PEOPLE])]))) + \" people\")"
   ]
  },
  {
   "cell_type": "code",
   "execution_count": 15,
   "id": "bae4d032",
   "metadata": {},
   "outputs": [],
   "source": [
    "from qctl.core.cloud_platform_client import CloudPlatformClient\n",
    "from pathlib import Path\n",
    "import time"
   ]
  },
  {
   "cell_type": "code",
   "execution_count": 16,
   "id": "1c7e7374",
   "metadata": {},
   "outputs": [],
   "source": [
    "CLOUD_PLATFORM_URL = \"https://cloudos.qboard.tech\"\n",
    "WORKSPACE_ID = \"workspace-85b32ae33c6340dcb1603d9a116f9b22\"  # workspace should be already exists\n",
    "IMAGE_NAME = \"cloud-platform-quantum-modules-qboard\"  # use correct image name"
   ]
  },
  {
   "cell_type": "code",
   "execution_count": 17,
   "id": "f114acce",
   "metadata": {},
   "outputs": [],
   "source": [
    "def print_status(msg: str):\n",
    "    print(f\"{time.strftime('%Y-%m-%d %H:%M:%S', time.localtime())} {msg}\")"
   ]
  },
  {
   "cell_type": "code",
   "execution_count": 18,
   "id": "52e0fd9d",
   "metadata": {},
   "outputs": [],
   "source": [
    "client = CloudPlatformClient(cloud_platform_url=CLOUD_PLATFORM_URL)\n",
    "with open(\"logindata.json\") as fld:\n",
    "    logdat = json.load(fld)\n",
    "client.login(username=logdat[\"login\"], password=logdat[\"password\"])"
   ]
  },
  {
   "cell_type": "code",
   "execution_count": null,
   "id": "5f4bfa1a",
   "metadata": {},
   "outputs": [],
   "source": [
    "(10,10,1,10,10)"
   ]
  },
  {
   "cell_type": "code",
   "execution_count": 84,
   "id": "fb827f62",
   "metadata": {},
   "outputs": [
    {
     "data": {
      "text/plain": [
       "{'path': '/weights.json',\n",
       " 'size': 49,\n",
       " 'nodeType': 'FILE',\n",
       " 'lastModified': datetime.datetime(2024, 11, 15, 3, 53, 37),\n",
       " 'contentType': 'application/json',\n",
       " 'status': 'AWAITING_CHECK'}"
      ]
     },
     "execution_count": 84,
     "metadata": {},
     "output_type": "execute_result"
    }
   ],
   "source": [
    "Pv = 40\n",
    "Py = 15\n",
    "P1 = 1\n",
    "P2 = 15\n",
    "P3 = 15\n",
    "LvFT = Lv_ft*Pv\n",
    "LyFT = Ly_ft*Py\n",
    "L2FT = L2_ft*P2\n",
    "FREE_TERM = LvFT + LyFT + L2FT\n",
    "Pdict = {\"Pv\": Pv, \"Py\": Py, \"P1\": P1, \"P2\": P2, \"P3\": P3}\n",
    "\n",
    "with open(\"weights_auto.json\", mode=\"wt\") as f_w_o:\n",
    "    json.dump(Pdict, f_w_o)\n",
    "    \n",
    "client.put_file(source_path=\"weights_auto.json\", dest_path=\"weights.json\", workspace_id=WORKSPACE_ID)"
   ]
  },
  {
   "cell_type": "code",
   "execution_count": 85,
   "id": "a2379f76",
   "metadata": {},
   "outputs": [
    {
     "name": "stdout",
     "output_type": "stream",
     "text": [
      "2024-11-15 03:53:37 Waiting for process to complete...\n",
      "2024-11-15 03:54:17 Process completed.\n",
      "2024-11-15 03:54:17 Process_output: [{'timestamp': datetime.datetime(2024, 11, 15, 3, 54, 10, 746467), 'text': \"['Вокзал', 'Канавинский мост 1', 'Перекресток 6', 'Перекресток 5', 'Мызинский мост 1', 'Перекресток 4', 'Перекресток 3', 'Перекресток 2', 'Перекресток 1', 'Перекресток 7', 'Неклюдово', 'Паромная переправа 2', 'Перекресток 8', 'Борский мост 1', 'Борский мост 2', 'Канавинский мост 2', 'Мызинский мост 2', 'Метромост 1', 'Метромост 2', 'Паромная переправа 1', 'Молитовский мост 1', 'Молитовский мост 2', 'Музей «Паровозы России»', 'Никольский собор', 'Нижне-Волжская набережная', 'Церковь Рождества Иоанна Предтечи на Торгу', 'Набережная Федоровского', 'Русский музей фотографии', 'Памятник Горькому', 'Мещерское озеро', 'Копосовская дубрава', 'Борский краеведческий музей', 'Борский музей военной техники', 'Спасский Староярмарочный собор', 'Литературный музей им. Горького', 'Рождественская церковь', 'Домик Петра 1', 'Нижегородский планетарий', 'Усадьба Рукавишниковых', 'Парк 1 мая', 'Собор Александра Невского', 'Большая Покровская улица 2', 'Святой источник Пафнутия Балахнинского', 'Обзорная площадка на Гремячей горе', 'Музей народов Нижегородского поволжья', 'Благовещенский монастырь', 'Площадь Минина и Пожарского', 'Большая Покровская улица', 'Памятник Минину и Пожарскому', 'Нижегородская ярмарка', 'Зоопарк', 'Музей Сахарова', 'Музей истории художественных промыслов', 'Щёлоковский хутор', 'Кремль', 'Стрелка', 'Чкаловская лестница']\"}, {'timestamp': datetime.datetime(2024, 11, 15, 3, 54, 10, 746519), 'text': 'Started H'}, {'timestamp': datetime.datetime(2024, 11, 15, 3, 54, 10, 746523), 'text': 'Started Lv'}, {'timestamp': datetime.datetime(2024, 11, 15, 3, 54, 10, 746526), 'text': 'Started Ly'}, {'timestamp': datetime.datetime(2024, 11, 15, 3, 54, 10, 746530), 'text': 'Started L1'}, {'timestamp': datetime.datetime(2024, 11, 15, 3, 54, 10, 746533), 'text': 'Started L2'}, {'timestamp': datetime.datetime(2024, 11, 15, 3, 54, 10, 746537), 'text': 'Started L3'}, {'timestamp': datetime.datetime(2024, 11, 15, 3, 54, 10, 746540), 'text': 'Combining'}, {'timestamp': datetime.datetime(2024, 11, 15, 3, 54, 10, 746544), 'text': 'Start writing file'}, {'timestamp': datetime.datetime(2024, 11, 15, 3, 54, 10, 746547), 'text': 'Objective is 1569'}, {'timestamp': datetime.datetime(2024, 11, 15, 3, 54, 10, 746550), 'text': 'Constraint Lv=25.0'}, {'timestamp': datetime.datetime(2024, 11, 15, 3, 54, 10, 746554), 'text': 'Constraint Ly=2.0'}, {'timestamp': datetime.datetime(2024, 11, 15, 3, 54, 10, 746557), 'text': 'Constraint L1=182.0'}, {'timestamp': datetime.datetime(2024, 11, 15, 3, 54, 10, 746561), 'text': 'Constraint L2=10.0'}, {'timestamp': datetime.datetime(2024, 11, 15, 3, 54, 10, 746564), 'text': 'Constraint L3=1.0'}]\n"
     ]
    }
   ],
   "source": [
    "process = client.create_process(\n",
    "    workspace_id=WORKSPACE_ID,\n",
    "    image=IMAGE_NAME,\n",
    "    name=\"generating QUBO matrix\",\n",
    "    cpu=\"10\",\n",
    "    ram=\"16\",\n",
    "    gpu=0,\n",
    "    command=\"python3\",\n",
    "    args=[\"/workspace/QUBO_formandrum.py\"],\n",
    ")\n",
    "\n",
    "print_status(\"Waiting for process to complete...\")\n",
    "while process[\"status\"] != \"COMPLETED\":\n",
    "    if process[\"status\"] in [\"CREATED\", \"SUBMITTED\", \"RUNNING\", \"COMPLETED\"]:\n",
    "        time.sleep(1)\n",
    "    else:\n",
    "        msg = client.get_process_output(process[\"id\"])\n",
    "        print_status(\"The process was not completed normally\")\n",
    "        raise ValueError(msg)\n",
    "    process = client.describe_process(process[\"id\"])\n",
    "print_status(\"Process completed.\")\n",
    "process_output = client.get_process_output(process[\"id\"])\n",
    "print_status(f\"Process_output: {process_output}\")"
   ]
  },
  {
   "cell_type": "code",
   "execution_count": 86,
   "id": "858b4866",
   "metadata": {},
   "outputs": [],
   "source": [
    "assert process_output[0][\"text\"] == str(node_names), \"Different order!\""
   ]
  },
  {
   "cell_type": "code",
   "execution_count": null,
   "id": "031348c9",
   "metadata": {},
   "outputs": [
    {
     "name": "stdout",
     "output_type": "stream",
     "text": [
      "2024-11-15 03:54:17 Waiting for process to complete...\n"
     ]
    }
   ],
   "source": [
    "default_args = [\n",
    "            \"solve\",\n",
    "            \"--matrix\",\n",
    "            f\"/workspace/Qmat.txt\",\n",
    "            \"--num-runs\",\n",
    "            \"10\",\n",
    "            \"--num-steps\",\n",
    "            \"7000\",\n",
    "            \"--output\",\n",
    "            f\"/workspace/output.json\",\n",
    "            \"--verbose\",\n",
    "            \"1\",\n",
    "            \"--gpu\",\n",
    "            \"--dt\",\n",
    "            \"0.8\",\n",
    "            \"--seed\",\n",
    "            \"42\"\n",
    "        ]\n",
    "\n",
    "process = client.create_process(\n",
    "    workspace_id=WORKSPACE_ID,\n",
    "    image=IMAGE_NAME,\n",
    "    name=\"run qiopt\",\n",
    "    cpu=\"10\",\n",
    "    ram=\"16\",\n",
    "    gpu=1,\n",
    "    command=\"qiopt\",\n",
    "    args=default_args,\n",
    ")\n",
    "\n",
    "print_status(\"Waiting for process to complete...\")\n",
    "while process[\"status\"] != \"COMPLETED\":\n",
    "    if process[\"status\"] in [\"CREATED\", \"SUBMITTED\", \"RUNNING\", \"COMPLETED\"]:\n",
    "        time.sleep(1)\n",
    "    else:\n",
    "        msg = client.get_process_output(process[\"id\"])\n",
    "        print_status(\"The process was not completed normally\")\n",
    "        raise ValueError(msg)\n",
    "    process = client.describe_process(process[\"id\"])\n",
    "print_status(\"Process completed.\")\n",
    "process_output = client.get_process_output(process[\"id\"])\n",
    "print_status(f\"Process_output: {process_output}\")\n",
    "\n",
    "client.get_file(\"output.json\", \"output_auto.json\", workspace_id=WORKSPACE_ID)"
   ]
  },
  {
   "cell_type": "code",
   "execution_count": null,
   "id": "27aa2ac4",
   "metadata": {},
   "outputs": [],
   "source": [
    "with open(\"output_auto.json\", mode='rt') as in_f:\n",
    "    res = json.load(in_f)\n",
    "    \n",
    "sol_vec = np.asarray(res[\"Solution\"], dtype=int)\n",
    "print(\"Objective: \" + str(res[\"Objective\"] + FREE_TERM))\n",
    "print(f\"Constraint Lv={check_constraints(Lv, sol_vec, Lv_ft)}\")\n",
    "print(f\"Constraint Ly={check_constraints(Ly, sol_vec, Ly_ft)}\")\n",
    "print(f\"Constraint L1={check_constraints(L1, sol_vec, 0)}\")\n",
    "print(f\"Constraint L2={check_constraints(L2, sol_vec, L2_ft)}\")\n",
    "print(f\"Constraint L3={check_constraints(L3, sol_vec, 0)}\")"
   ]
  },
  {
   "cell_type": "code",
   "execution_count": null,
   "id": "6895a2d3",
   "metadata": {},
   "outputs": [],
   "source": [
    "print_routes(sol_vec)"
   ]
  },
  {
   "cell_type": "code",
   "execution_count": null,
   "id": "06557da3",
   "metadata": {},
   "outputs": [],
   "source": []
  },
  {
   "cell_type": "code",
   "execution_count": null,
   "id": "3246df15",
   "metadata": {},
   "outputs": [],
   "source": []
  },
  {
   "cell_type": "code",
   "execution_count": null,
   "id": "2a674326",
   "metadata": {},
   "outputs": [],
   "source": []
  },
  {
   "cell_type": "code",
   "execution_count": 40,
   "id": "523cf052",
   "metadata": {},
   "outputs": [],
   "source": [
    "Qnp = H + Pv*Lv + Py*Ly + P1*L1 + P2*L2 + P3*L3\n",
    "Qnp = np.triu(Qnp + np.triu(Qnp.T, 1))"
   ]
  },
  {
   "cell_type": "code",
   "execution_count": 41,
   "id": "74b3502e",
   "metadata": {},
   "outputs": [
    {
     "data": {
      "text/plain": [
       "1060.0"
      ]
     },
     "execution_count": 41,
     "metadata": {},
     "output_type": "execute_result"
    }
   ],
   "source": [
    "sol_vec @ Qnp @ sol_vec + FREE_TERM"
   ]
  },
  {
   "cell_type": "code",
   "execution_count": null,
   "id": "a0820a40",
   "metadata": {},
   "outputs": [],
   "source": []
  },
  {
   "cell_type": "code",
   "execution_count": null,
   "id": "255f5042",
   "metadata": {},
   "outputs": [],
   "source": []
  },
  {
   "cell_type": "code",
   "execution_count": null,
   "id": "93734be4",
   "metadata": {},
   "outputs": [],
   "source": []
  },
  {
   "cell_type": "code",
   "execution_count": 177,
   "id": "953ba43d",
   "metadata": {},
   "outputs": [],
   "source": [
    "Q = sp.sparse.coo_array(Qnp)\n",
    "with open(\"Qmat.txt\", mode='wt') as out_f:\n",
    "    out_f.write(f\"{SHAPE} {len(Q.row)}\\n\")\n",
    "    for c,r,d in zip(Q.col, Q.row, Q.data):\n",
    "        out_f.write(f\"{r+1} {c+1} {d}\\n\")"
   ]
  },
  {
   "cell_type": "code",
   "execution_count": null,
   "id": "7325d4ac",
   "metadata": {},
   "outputs": [],
   "source": [
    "client.put_file(source_path=\"Qmat.txt\", dest_path=\"Qmat.txt\", workspace_id=WORKSPACE_ID)"
   ]
  },
  {
   "cell_type": "code",
   "execution_count": 117,
   "id": "29ee5e98",
   "metadata": {},
   "outputs": [
    {
     "data": {
      "text/plain": [
       "-4816.0"
      ]
     },
     "execution_count": 117,
     "metadata": {},
     "output_type": "execute_result"
    }
   ],
   "source": [
    "sol_vec @ Qnp @ sol_vec"
   ]
  },
  {
   "cell_type": "code",
   "execution_count": 118,
   "id": "902607db",
   "metadata": {},
   "outputs": [
    {
     "data": {
      "text/plain": [
       "-7130"
      ]
     },
     "execution_count": 118,
     "metadata": {},
     "output_type": "execute_result"
    }
   ],
   "source": [
    "res[\"Objective\"]"
   ]
  },
  {
   "cell_type": "code",
   "execution_count": null,
   "id": "db5c9fd4",
   "metadata": {},
   "outputs": [],
   "source": []
  }
 ],
 "metadata": {
  "kernelspec": {
   "display_name": "Python 3 (ipykernel)",
   "language": "python",
   "name": "python3"
  },
  "language_info": {
   "codemirror_mode": {
    "name": "ipython",
    "version": 3
   },
   "file_extension": ".py",
   "mimetype": "text/x-python",
   "name": "python",
   "nbconvert_exporter": "python",
   "pygments_lexer": "ipython3",
   "version": "3.11.4"
  }
 },
 "nbformat": 4,
 "nbformat_minor": 5
}
