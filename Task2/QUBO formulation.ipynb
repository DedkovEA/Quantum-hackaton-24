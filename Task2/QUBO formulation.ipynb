{
 "cells": [
  {
   "cell_type": "code",
   "execution_count": 1,
   "id": "4f7066d2",
   "metadata": {},
   "outputs": [],
   "source": [
    "import numpy as np\n",
    "import scipy as sp\n",
    "import pandas as pd\n",
    "import itertools\n",
    "import json"
   ]
  },
  {
   "cell_type": "markdown",
   "id": "8bd860ce",
   "metadata": {},
   "source": [
    "Обозначим все узлы дорожной сети числами от 0 до 56, вокзал будет 0. Введем матрицу $57\\times 57$ стоимости перемещения $A_{ij}$, равную стоимости перемещения между узлами с номерами $i,j$. Введем также вектор $B_j$, который соответствует числу людей в экскурсионной группе для узла $j$. За множество $S$ обозначим номера всех достопримечательностей."
   ]
  },
  {
   "cell_type": "code",
   "execution_count": 574,
   "id": "f565f3ec",
   "metadata": {},
   "outputs": [],
   "source": [
    "MAX_INT = 500\n",
    "nodes_frame = pd.read_csv(\"task-2-nodes.csv\", header=None, index_col=0).sort_values(1)\n",
    "edges_frame = pd.read_csv(\"task-2-adjacency_matrix.csv\", index_col=0, na_values=[\"-\"])\n",
    "\n",
    "# Sorting nodes such that initial is 0, and all crossings are at the beginning\n",
    "initial_node = \"Вокзал\"\n",
    "node_names = nodes_frame.index.tolist()\n",
    "node_names.remove(initial_node)\n",
    "node_names.insert(0, initial_node)\n",
    "assert len(node_names) == 57 and node_names[0]==initial_node, \"Sonething goes wrong with reordering initial node\"\n",
    "\n",
    "A = edges_frame.reindex(index=node_names, columns=node_names).to_numpy(na_value=MAX_INT, copy=True).astype(int)\n",
    "B = nodes_frame.reindex(index=node_names).to_numpy(na_value=MAX_INT, copy=True).astype(int).reshape((-1))\n",
    "sights_start = np.searchsorted(B, 0, side='right')  # Start of nodes which should be visited only once"
   ]
  },
  {
   "cell_type": "code",
   "execution_count": 575,
   "id": "058838b5",
   "metadata": {},
   "outputs": [
    {
     "data": {
      "text/plain": [
       "array([[  0, 500, 500, ..., 500, 500, 500],\n",
       "       [500,   0,   5, ..., 500, 500, 500],\n",
       "       [500,   5,   0, ..., 500, 500, 500],\n",
       "       ...,\n",
       "       [500, 500, 500, ...,   0, 500,   3],\n",
       "       [500, 500, 500, ..., 500,   0, 500],\n",
       "       [500, 500, 500, ...,   3, 500,   0]])"
      ]
     },
     "execution_count": 575,
     "metadata": {},
     "output_type": "execute_result"
    }
   ],
   "source": [
    "A"
   ]
  },
  {
   "cell_type": "code",
   "execution_count": 396,
   "id": "7b28a3d4",
   "metadata": {},
   "outputs": [
    {
     "data": {
      "text/plain": [
       "134"
      ]
     },
     "execution_count": 396,
     "metadata": {},
     "output_type": "execute_result"
    }
   ],
   "source": [
    "B.sum()"
   ]
  },
  {
   "cell_type": "code",
   "execution_count": 397,
   "id": "54a772be",
   "metadata": {},
   "outputs": [
    {
     "data": {
      "text/plain": [
       "35"
      ]
     },
     "execution_count": 397,
     "metadata": {},
     "output_type": "execute_result"
    }
   ],
   "source": [
    "len(list(*np.where(B)))"
   ]
  },
  {
   "cell_type": "markdown",
   "id": "ab7a3acd",
   "metadata": {},
   "source": [
    "Поскольку имеется ограничение в 15 тактов, заведем для каждого автобуса векторы как в отборочной задаче, однако допустим, чтобы вершины повторялись. Тогда нам потребуется отжиг $15 \\cdot 14 \\cdot 57 = 11970$ кубитов. Это довольно-таки много, и асимптотика также плохая.\n",
    "\n",
    "По сути, минимально нам требуется закодировать маршрут каждого автобуса. Для этого достаточно указать 14 промежуточных вершин, подразумевая что 0-ая и 15-ая это вокзал. Как минимум нам требуется $15 \\cdot 14 = 210$ дискретных переменных от 0 до 56. В лучшем случае, используя двочную кодировку нам потребуется $\\lceil \\log_2 57 \\rceil = 6$ кубитов, что дает вменяемый размер задачи $15 \\cdot 14 \\cdot 6 = 1260$. Проблема может возникнуть на этапе вычисления выражений\n",
    "$$\n",
    "a_{v^b_i, v^b_j} = \\sum_{\\alpha, \\beta} a_{\\alpha, \\beta}\\delta(\\alpha, v^b_i) \\delta(\\beta, v^b_j)\n",
    "$$\n",
    "Если $\\alpha = \\sum_{i=0}^{5} \\alpha[i] 2^{i}$, а $v$ закодировано в виде 6 бит так же ($v = \\sum_{i=0}^5 v[i]2^i$), имеем\n",
    "$$\n",
    "\\delta(\\alpha, v) = \\prod_{i=0}^{5} (v[i]\\cdot \\alpha[i] + (1-v[i])\\cdot(1 - \\alpha[i]))\n",
    "$$"
   ]
  },
  {
   "cell_type": "markdown",
   "id": "f1ccc564",
   "metadata": {},
   "source": [
    "## Прямолинейный метод кодирования"
   ]
  },
  {
   "cell_type": "markdown",
   "id": "08870a8c",
   "metadata": {},
   "source": [
    "**Важно:** мы будем предполагать, что автобусу запрещено стоять на достопримечательности."
   ]
  },
  {
   "cell_type": "markdown",
   "id": "970067e6",
   "metadata": {},
   "source": [
    "Заведем бинарный вектор $v^b_{ij}$, где $b\\in\\{0,\\dots, 14\\}$, $i\\in \\{1,\\dots, 14\\}$ и $j\\in\\{0,\\dots, 57\\}$, и\n",
    "$$\n",
    "v^b_{ij} = \\begin{cases}\n",
    "    1, & \\text{если $b$-й автобус на $i$ такте перемещается в вершину $j$}, \\\\\n",
    "    0, & \\text{иначе}.\n",
    "\\end{cases}\n",
    "$$\n",
    "\n",
    "В таком случае имеются следующее естественное ограничение:\n",
    "$$\n",
    "\\forall b, i \\hookrightarrow \\sum_{j} v^b_{ij} = 1,\n",
    "$$\n",
    "выражающее собой тот факт, что на $i$-м такте автобус находится хотя бы в одной вершине.\n",
    "\n",
    "Его функция потерь есть\n",
    "$$\n",
    "L_v := \\sum_{b,i} \\left( \\sum_j v^b_{ij} - 1 \\right)^2 = \\sum_{b,i} \\left( \\sum_{j,j'} v^b_{ij}v^b_{ij'} - 2 \\sum_j v^b_{ij} + 1 \\right)\n",
    "$$\n",
    "\n",
    "Далее определим условия в виде ограничений.\n",
    "1. Автобусов уже 15. Чтобы не привысить вместимость, необходимо выполнить условие\n",
    "$$\n",
    "\\forall b \\hookrightarrow \\sum_{j} B_j \\sum_{i} v^b_{ij} \\leq 10\n",
    "$$\n",
    "Вводим дополнительные переменные - число занятых мест в виде one-hot-encoding, $y^b_k = 1$ если в автобусе $b$ занято $k$ мест, $k=0,\\dots,10$. Ограничения такой кодировки есть\n",
    "$$\n",
    "\\forall b \\hookrightarrow \\sum_k y^b_k = 1,\n",
    "$$\n",
    "что соответствует потерям\n",
    "$$\n",
    "L_y := \\sum_b \\left( \\sum_{k} y^b_k  - 1 \\right)^2 = \\sum_b \\left( \\sum_{k,k'} y^b_k y^b_{k'} - 2\\sum_k y^b_k + 1 \\right) .\n",
    "$$\n",
    "Тогда функция потерь этого пункта есть\n",
    "$$\n",
    "L_1 := \\sum_b \\left( \\sum_{i,j} B_j v^{b}_{ij} - \\sum_k k y^b_k \\right)^2 = \\sum_b \\left( \\sum_{i,j,i',j'} B_jB_{j'} v^{b}_{ij}v^{b}_{i'j'} + \\sum_{k,k'} kk' y^b_k y^b_{k'} - 2\\sum_{i,j,k} B_j k v^{b}_{ij} y^b_k \\right)\n",
    "$$\n",
    "\n",
    "2. Достопримечательности должны быть посещены ровно 1 раз (и нельзя в них стоять)\n",
    "$$\n",
    "\\forall j \\in S \\hookrightarrow \\sum_{b,i} v^b_{ij} = 1\n",
    "$$\n",
    "Соответственно потери есть\n",
    "$$\n",
    "L_2 := \\sum_{j\\in S} \\left(\\sum_{b,i} v^b_{ij} - 1 \\right)^2 = \\sum_{j\\in S} \\left(\\sum_{b,i,b',i'} v^{b}_{ij}v^{b'}_{i'j} - 2\\sum_{b,i} v^b_{ij} + 1 \\right)\n",
    "$$\n",
    "\n",
    "3. На узле (кроме вокзала) не более 1 машины\n",
    "$$\n",
    "\\forall i, j \\neq 0 \\hookrightarrow \\sum_{b} v^b_{i,j} \\leq 1.\n",
    "$$\n",
    "Это эффективно соответствует функции потерь\n",
    "$$\n",
    "L_3 := \\sum_{i,j\\neq 0} \\sum_{b_1\\neq b_2} v^{b_1}_{ij} v^{b_2}_{ij}\n",
    "$$\n",
    "\n",
    "Минимизировать требуется функцию (старт и финиш на вокзале):\n",
    "$$\n",
    "H := \\sum_{b} \\left( \\sum_j A_{0j}v^b_{1j} + \\sum_{i=1}^{13} \\sum_{j,j'} A_{jj'} v^b_{ij} v^b_{(i+1)j'} + \\sum_j A_{j0} v^b_{14j} \\right)\n",
    "$$"
   ]
  },
  {
   "cell_type": "markdown",
   "id": "7ec2d86d",
   "metadata": {},
   "source": [
    "Если мы хотим разрешить автобусу оставаться в пунктах с достопримечательностью, мы должны ввести дополнительную переменную.\n",
    "Пусть автобус $b$ высаживает людей в такте $i$ в достопримечательность $j \\in S$ если $z^b_{ij} = 1$. Имеем следующие ограничения:\n",
    "$$\n",
    "\\forall j \\hookrightarrow \\sum_{i,b} z^b_{ij} = 1  \n",
    "$$\n",
    "(это - ограничение 2). Ограничение 1 превращается в\n",
    "$$\n",
    "\\forall b \\hookrightarrow \\sum_{j} B_j \\sum_{i} z^b_{ij} \\leq 10\n",
    "$$"
   ]
  },
  {
   "cell_type": "code",
   "execution_count": 398,
   "id": "0c1f4d64",
   "metadata": {},
   "outputs": [],
   "source": [
    "NUM_BUSES = 15\n",
    "MAX_PEOPLE = 10\n",
    "MAX_TACTS = 15\n",
    "NUM_TACTS = MAX_TACTS - 1\n",
    "NUM_NODES = len(node_names)\n",
    "NUM_PEOPLE = MAX_PEOPLE + 1\n",
    "\n",
    "# Array will be encoded as {v[b,i,j], y[b,k]}\n",
    "# b = 0,...,NUM_BUSES-1\n",
    "# i = 1,...,NUM_TACTS-1\n",
    "# j = 0,...,NUM_NODES-1\n",
    "# k = 0,...,MAX_PEOPLE\n",
    "\n",
    "def get_index(inp : list) -> int:\n",
    "    \"\"\"\n",
    "    Returns integer index in big array of element v,b,i,j or y,b,k\n",
    "    \"\"\"\n",
    "    var = inp\n",
    "    if var[0] == \"v\":\n",
    "        return (MAX_TACTS-1)*NUM_NODES*int(var[1]) + NUM_NODES*(int(var[2]) - 1) + int(var[3])\n",
    "    elif var[0] == \"y\":\n",
    "        return NUM_BUSES*NUM_TACTS*NUM_NODES + (MAX_PEOPLE + 1)*int(var[1]) + int(var[2])"
   ]
  },
  {
   "cell_type": "code",
   "execution_count": 399,
   "id": "4b5c273d",
   "metadata": {},
   "outputs": [],
   "source": [
    "SHAPE = NUM_BUSES*NUM_TACTS*NUM_NODES + NUM_BUSES*NUM_PEOPLE\n",
    "H = np.zeros((SHAPE, SHAPE))\n",
    "for b, j in itertools.product(range(NUM_BUSES), range(NUM_NODES)):\n",
    "    ind = get_index([\"v\",b,1,j])\n",
    "    H[ind, ind] += A[0,j]\n",
    "    ind = get_index([\"v\",b,NUM_TACTS,j])\n",
    "    H[ind, ind] += A[j,0]\n",
    "\n",
    "for b, i, j, jp in itertools.product(range(NUM_BUSES), range(1,MAX_TACTS-1), range(NUM_NODES), range(NUM_NODES)):\n",
    "    H[get_index([\"v\",b,i,j]), get_index([\"v\",b,i+1,jp])] += A[j,jp]"
   ]
  },
  {
   "cell_type": "code",
   "execution_count": 400,
   "id": "da8b00be",
   "metadata": {},
   "outputs": [],
   "source": [
    "Lv = np.zeros((SHAPE, SHAPE))\n",
    "for b, i, j in itertools.product(range(NUM_BUSES), range(1,MAX_TACTS), range(NUM_NODES)):\n",
    "    Lv[get_index([\"v\",b,i,j]), get_index([\"v\",b,i,j])] -= 2\n",
    "for b, i, j, jp in itertools.product(range(NUM_BUSES), range(1,MAX_TACTS), range(NUM_NODES), range(NUM_NODES)):\n",
    "    Lv[get_index([\"v\",b,i,j]), get_index([\"v\",b,i,jp])] += 1"
   ]
  },
  {
   "cell_type": "code",
   "execution_count": 401,
   "id": "9b9231b2",
   "metadata": {},
   "outputs": [],
   "source": [
    "Ly = np.zeros((SHAPE, SHAPE))\n",
    "for b, k in itertools.product(range(NUM_BUSES), range(NUM_PEOPLE)):\n",
    "    ind = get_index([\"y\", b, k])\n",
    "    Ly[ind, ind] -= 2\n",
    "    \n",
    "for b, k, kp in itertools.product(range(NUM_BUSES), range(NUM_PEOPLE), range(NUM_PEOPLE)):\n",
    "    Ly[get_index([\"y\", b, k]), get_index([\"y\", b, kp])] += 1"
   ]
  },
  {
   "cell_type": "code",
   "execution_count": 402,
   "id": "7529c4e1",
   "metadata": {},
   "outputs": [],
   "source": [
    "L1 = np.zeros((SHAPE, SHAPE))\n",
    "for b in range(NUM_BUSES):\n",
    "    for i,ip,j,jp in itertools.product(range(1,MAX_TACTS), range(1,MAX_TACTS), \n",
    "                                       range(sights_start, NUM_NODES), range(sights_start, NUM_NODES)):\n",
    "        L1[get_index([\"v\", b, i, j]), get_index([\"v\", b, ip, jp])] += B[j]*B[jp]\n",
    "    \n",
    "    for k,kp in itertools.product(range(1, NUM_PEOPLE), range(1, NUM_PEOPLE)):\n",
    "        L1[get_index([\"y\", b, k]), get_index([\"y\", b, kp])] += k*kp\n",
    "        \n",
    "    for i,j,k in itertools.product(range(1, MAX_TACTS), range(sights_start, NUM_NODES), range(1, NUM_PEOPLE)):\n",
    "        L1[get_index([\"v\", b, i, j]), get_index([\"y\", b, k])] -= 2 * B[j] * k"
   ]
  },
  {
   "cell_type": "code",
   "execution_count": 403,
   "id": "3744e357",
   "metadata": {},
   "outputs": [],
   "source": [
    "L2 = np.zeros((SHAPE, SHAPE))\n",
    "for j in range(sights_start, NUM_NODES):\n",
    "    for b,i in itertools.product(range(NUM_BUSES), range(1, MAX_TACTS)):\n",
    "        ind = get_index([\"v\", b, i, j])\n",
    "        L2[ind, ind] -= 2\n",
    "        for bp,ip in itertools.product(range(NUM_BUSES), range(1, MAX_TACTS)):\n",
    "            ind2 = get_index([\"v\", bp, ip, j])\n",
    "            L2[ind, ind2] += 1"
   ]
  },
  {
   "cell_type": "code",
   "execution_count": 404,
   "id": "ac70bd49",
   "metadata": {},
   "outputs": [],
   "source": [
    "L3 = np.zeros((SHAPE, SHAPE))\n",
    "for i,j in itertools.product(range(1, MAX_TACTS), range(1, NUM_NODES)):\n",
    "    for b,bp in itertools.combinations(range(NUM_BUSES), 2):\n",
    "        L3[get_index([\"v\", b, i, j]), get_index([\"v\", bp, i, j])] += 1"
   ]
  },
  {
   "cell_type": "code",
   "execution_count": 405,
   "id": "7c558855",
   "metadata": {},
   "outputs": [],
   "source": [
    "NUM_SIGHTS = NUM_NODES - sights_start\n",
    "Lv_ft = NUM_BUSES * NUM_TACTS\n",
    "Ly_ft = NUM_BUSES\n",
    "L2_ft = NUM_SIGHTS"
   ]
  },
  {
   "cell_type": "code",
   "execution_count": 406,
   "id": "49aef2c9",
   "metadata": {},
   "outputs": [
    {
     "ename": "IndentationError",
     "evalue": "unexpected indent (1632957687.py, line 2)",
     "output_type": "error",
     "traceback": [
      "\u001b[1;36m  Cell \u001b[1;32mIn[406], line 2\u001b[1;36m\u001b[0m\n\u001b[1;33m    out_f.write(f\"{SHAPE} {len(Q.row)}\\n\")\u001b[0m\n\u001b[1;37m    ^\u001b[0m\n\u001b[1;31mIndentationError\u001b[0m\u001b[1;31m:\u001b[0m unexpected indent\n"
     ]
    }
   ],
   "source": [
    "#with open(\"Qmat.txt\", mode='wt') as out_f:\n",
    "    out_f.write(f\"{SHAPE} {len(Q.row)}\\n\")\n",
    "    for c,r,d in zip(Q.col, Q.row, Q.data):\n",
    "        out_f.write(f\"{r+1} {c+1} {d}\\n\")"
   ]
  },
  {
   "cell_type": "code",
   "execution_count": null,
   "id": "0ec6e194",
   "metadata": {},
   "outputs": [],
   "source": [
    "# ARR_SHAPE_V = (NUM_BUSES, NUM_TACTS, NUM_NODES)\n",
    "# SHAPE_V = NUM_BUSES*NUM_TACTS*NUM_NODES\n",
    "# ARR_SHAPE_Y = (NUM_BUSES, NUM_PEOPLE)\n",
    "# SHAPE_Y = NUM_BUSES*NUM_PEOPLE\n",
    "\n",
    "# Hij = np.zeros((NUM_TACTS, NUM_NODES, NUM_TACTS, NUM_NODES))\n",
    "# Hij[0,:,0,:] = np.diag(A[0,:])    # first term\n",
    "# Hij[-1,:,-1,:] = np.diag(A[:,0])  # last term\n",
    "# for i in range(NUM_TACTS - 1):\n",
    "#     Hij[i,:,i+1,:] += A\n",
    "# Ht = np.reshape(np.einsum(\"ab,ijkl->aijbkl\", np.eye(NUM_BUSES), Hij), (SHAPE_V, SHAPE_V))\n",
    "\n",
    "# np.reshape(Hij, (NUM_TACTS*NUM_NODES, NUM_TACTS*NUM_NODES))"
   ]
  },
  {
   "cell_type": "code",
   "execution_count": 409,
   "id": "caf46728",
   "metadata": {},
   "outputs": [],
   "source": [
    "def check_constraints(Lmat, vec, free_term=0):\n",
    "    return vec.T @ Lmat @ vec + free_term"
   ]
  },
  {
   "cell_type": "code",
   "execution_count": 410,
   "id": "1f4f01f9",
   "metadata": {},
   "outputs": [],
   "source": [
    "def print_routes(vec):\n",
    "    for b in range(NUM_BUSES):\n",
    "        print(f\"Bus #{b} follows the next route:\")\n",
    "        route = []\n",
    "        for i in range(1, MAX_TACTS):\n",
    "            route.append(list(*np.where(vec[get_index([\"v\", b, i, 0]):get_index([\"v\", b, i+1, 0])])))\n",
    "        print(route)\n",
    "        print(\"It carries \" + str(list(*np.where(vec[get_index([\"y\", b, 0]):get_index([\"y\", b, NUM_PEOPLE])]))) + \" people\")"
   ]
  },
  {
   "cell_type": "code",
   "execution_count": 505,
   "id": "395355ae",
   "metadata": {},
   "outputs": [
    {
     "data": {
      "text/plain": [
       "0"
      ]
     },
     "execution_count": 505,
     "metadata": {},
     "output_type": "execute_result"
    }
   ],
   "source": [
    "np.where([0,0,0])[0].shape[0]"
   ]
  },
  {
   "cell_type": "code",
   "execution_count": 508,
   "id": "9650a943",
   "metadata": {},
   "outputs": [],
   "source": [
    "def get_routes(vec):\n",
    "    routes = []\n",
    "    for b in range(NUM_BUSES):\n",
    "        route = []\n",
    "        for i in range(1, MAX_TACTS):\n",
    "            pos = np.where(vec[get_index([\"v\", b, i, 0]):get_index([\"v\", b, i+1, 0])])[0]\n",
    "            if pos.shape[0] > 0:\n",
    "                route.append(pos[0])\n",
    "            elif len(route) > 0:\n",
    "                route.append(route[-1])\n",
    "            else:\n",
    "                route.append(0)\n",
    "        routes.append(route)\n",
    "    return routes"
   ]
  },
  {
   "cell_type": "code",
   "execution_count": 509,
   "id": "00765371",
   "metadata": {},
   "outputs": [],
   "source": [
    "from qctl.core.cloud_platform_client import CloudPlatformClient\n",
    "from pathlib import Path\n",
    "import time"
   ]
  },
  {
   "cell_type": "code",
   "execution_count": 413,
   "id": "c094fafc",
   "metadata": {},
   "outputs": [],
   "source": [
    "CLOUD_PLATFORM_URL = \"https://cloudos.qboard.tech\"\n",
    "WORKSPACE_ID = \"workspace-85b32ae33c6340dcb1603d9a116f9b22\"  # workspace should be already exists\n",
    "IMAGE_NAME = \"cloud-platform-quantum-modules-qboard\"  # use correct image name"
   ]
  },
  {
   "cell_type": "code",
   "execution_count": 414,
   "id": "09646c65",
   "metadata": {},
   "outputs": [],
   "source": [
    "def print_status(msg: str):\n",
    "    print(f\"{time.strftime('%Y-%m-%d %H:%M:%S', time.localtime())} {msg}\")"
   ]
  },
  {
   "cell_type": "code",
   "execution_count": 415,
   "id": "b059237c",
   "metadata": {},
   "outputs": [],
   "source": [
    "client = CloudPlatformClient(cloud_platform_url=CLOUD_PLATFORM_URL)\n",
    "with open(\"logindata.json\") as fld:\n",
    "    logdat = json.load(fld)\n",
    "client.login(username=logdat[\"login\"], password=logdat[\"password\"])"
   ]
  },
  {
   "cell_type": "code",
   "execution_count": 416,
   "id": "5220ac1f",
   "metadata": {},
   "outputs": [
    {
     "data": {
      "text/plain": [
       "(10, 10, 1, 10, 10)"
      ]
     },
     "execution_count": 416,
     "metadata": {},
     "output_type": "execute_result"
    }
   ],
   "source": [
    "(10,10,1,10,10)"
   ]
  },
  {
   "cell_type": "code",
   "execution_count": 609,
   "id": "d3b7ea05",
   "metadata": {},
   "outputs": [
    {
     "data": {
      "text/plain": [
       "{'path': '/weights.json',\n",
       " 'size': 54,\n",
       " 'nodeType': 'FILE',\n",
       " 'lastModified': datetime.datetime(2024, 11, 15, 9, 40, 2),\n",
       " 'contentType': 'application/json',\n",
       " 'status': 'AWAITING_CHECK'}"
      ]
     },
     "execution_count": 609,
     "metadata": {},
     "output_type": "execute_result"
    }
   ],
   "source": [
    "Pv = 250\n",
    "Py = 250\n",
    "P1 = 35\n",
    "P2 = 190\n",
    "P3 = 150\n",
    "\n",
    "# Pv = 520\n",
    "# Py = 520\n",
    "# P1 = 100\n",
    "# P2 = 500\n",
    "# P3 = 300\n",
    "\n",
    "LvFT = Lv_ft*Pv\n",
    "LyFT = Ly_ft*Py\n",
    "L2FT = L2_ft*P2\n",
    "FREE_TERM = LvFT + LyFT + L2FT\n",
    "Pdict = {\"Pv\": Pv, \"Py\": Py, \"P1\": P1, \"P2\": P2, \"P3\": P3}\n",
    "\n",
    "with open(\"weights_auto.json\", mode=\"wt\") as f_w_o:\n",
    "    json.dump(Pdict, f_w_o)\n",
    "    \n",
    "client.put_file(source_path=\"weights_auto.json\", dest_path=\"weights.json\", workspace_id=WORKSPACE_ID)"
   ]
  },
  {
   "cell_type": "code",
   "execution_count": 610,
   "id": "7a2193a2",
   "metadata": {},
   "outputs": [
    {
     "name": "stdout",
     "output_type": "stream",
     "text": [
      "2024-11-15 09:40:01 Waiting for process to complete...\n",
      "2024-11-15 09:40:34 Process completed.\n",
      "2024-11-15 09:40:34 Process_output: [{'timestamp': datetime.datetime(2024, 11, 15, 9, 40, 32, 142843), 'text': \"['Вокзал', 'Канавинский мост 1', 'Перекресток 6', 'Перекресток 5', 'Мызинский мост 1', 'Перекресток 4', 'Перекресток 3', 'Перекресток 2', 'Перекресток 1', 'Перекресток 7', 'Неклюдово', 'Паромная переправа 2', 'Перекресток 8', 'Борский мост 1', 'Борский мост 2', 'Канавинский мост 2', 'Мызинский мост 2', 'Метромост 1', 'Метромост 2', 'Паромная переправа 1', 'Молитовский мост 1', 'Молитовский мост 2', 'Музей «Паровозы России»', 'Никольский собор', 'Нижне-Волжская набережная', 'Церковь Рождества Иоанна Предтечи на Торгу', 'Набережная Федоровского', 'Русский музей фотографии', 'Памятник Горькому', 'Мещерское озеро', 'Копосовская дубрава', 'Борский краеведческий музей', 'Борский музей военной техники', 'Спасский Староярмарочный собор', 'Литературный музей им. Горького', 'Рождественская церковь', 'Домик Петра 1', 'Нижегородский планетарий', 'Усадьба Рукавишниковых', 'Парк 1 мая', 'Собор Александра Невского', 'Большая Покровская улица 2', 'Святой источник Пафнутия Балахнинского', 'Обзорная площадка на Гремячей горе', 'Музей народов Нижегородского поволжья', 'Благовещенский монастырь', 'Площадь Минина и Пожарского', 'Большая Покровская улица', 'Памятник Минину и Пожарскому', 'Нижегородская ярмарка', 'Зоопарк', 'Музей Сахарова', 'Музей истории художественных промыслов', 'Щёлоковский хутор', 'Кремль', 'Стрелка', 'Чкаловская лестница']\"}, {'timestamp': datetime.datetime(2024, 11, 15, 9, 40, 32, 142892), 'text': 'Started H'}, {'timestamp': datetime.datetime(2024, 11, 15, 9, 40, 32, 142894), 'text': 'Started Lv'}, {'timestamp': datetime.datetime(2024, 11, 15, 9, 40, 32, 142896), 'text': 'Started Ly'}, {'timestamp': datetime.datetime(2024, 11, 15, 9, 40, 32, 142898), 'text': 'Started L1'}, {'timestamp': datetime.datetime(2024, 11, 15, 9, 40, 32, 142900), 'text': 'Started L2'}, {'timestamp': datetime.datetime(2024, 11, 15, 9, 40, 32, 142902), 'text': 'Started L3'}, {'timestamp': datetime.datetime(2024, 11, 15, 9, 40, 32, 142904), 'text': 'Combining'}, {'timestamp': datetime.datetime(2024, 11, 15, 9, 40, 32, 142906), 'text': 'Start writing file'}, {'timestamp': datetime.datetime(2024, 11, 15, 9, 40, 32, 142908), 'text': 'Objective is -69051.0'}, {'timestamp': datetime.datetime(2024, 11, 15, 9, 40, 32, 142910), 'text': 'Constraint Lv=0.0'}, {'timestamp': datetime.datetime(2024, 11, 15, 9, 40, 32, 142912), 'text': 'Constraint Ly=2.0'}, {'timestamp': datetime.datetime(2024, 11, 15, 9, 40, 32, 142914), 'text': 'Constraint L1=12.0'}, {'timestamp': datetime.datetime(2024, 11, 15, 9, 40, 32, 142916), 'text': 'Constraint L2=9.0'}, {'timestamp': datetime.datetime(2024, 11, 15, 9, 40, 32, 142918), 'text': 'Constraint L3=5.0'}]\n"
     ]
    }
   ],
   "source": [
    "process = client.create_process(\n",
    "    workspace_id=WORKSPACE_ID,\n",
    "    image=IMAGE_NAME,\n",
    "    name=f\"generating QUBO matrix\",\n",
    "    cpu=\"10\",\n",
    "    ram=\"16\",\n",
    "    gpu=0,\n",
    "    command=\"python3\",\n",
    "    args=[\"/workspace/QUBO_formandrum_args.py\", str(Pv), str(Py), str(P1), str(P2), str(P3), \"500\", \"--out_file\", f\"Qmat.txt\"],\n",
    ")\n",
    "\n",
    "print_status(\"Waiting for process to complete...\")\n",
    "while process[\"status\"] != \"COMPLETED\":\n",
    "    if process[\"status\"] in [\"CREATED\", \"SUBMITTED\", \"RUNNING\", \"COMPLETED\"]:\n",
    "        time.sleep(1)\n",
    "    else:\n",
    "        msg = client.get_process_output(process[\"id\"])\n",
    "        print_status(\"The process was not completed normally\")\n",
    "        raise ValueError(msg)\n",
    "    process = client.describe_process(process[\"id\"])\n",
    "print_status(\"Process completed.\")\n",
    "process_output = client.get_process_output(process[\"id\"])\n",
    "print_status(f\"Process_output: {process_output}\")"
   ]
  },
  {
   "cell_type": "code",
   "execution_count": 611,
   "id": "32c0bbdf",
   "metadata": {},
   "outputs": [],
   "source": [
    "assert process_output[0][\"text\"] == str(node_names), \"Different order!\""
   ]
  },
  {
   "cell_type": "code",
   "execution_count": 612,
   "id": "cd33c34c",
   "metadata": {},
   "outputs": [
    {
     "name": "stdout",
     "output_type": "stream",
     "text": [
      "2024-11-15 09:40:35 Waiting for process to complete...\n",
      "2024-11-15 09:41:49 Process completed.\n",
      "2024-11-15 09:41:50 Process_output: [{'timestamp': datetime.datetime(2024, 11, 15, 9, 40, 37, 829805), 'text': '[info] : CUDA device: NVIDIA RTX A5000'}, {'timestamp': datetime.datetime(2024, 11, 15, 9, 40, 38, 353395), 'text': '[info] : Problem reading time: 521 milliseconds'}, {'timestamp': datetime.datetime(2024, 11, 15, 9, 40, 38, 944801), 'text': '[info] : SimCimSolverGpu::solve(): Running on 20 / 64 threads'}, {'timestamp': datetime.datetime(2024, 11, 15, 9, 41, 47, 56094), 'text': '[info] : Problem solving time: 68702 milliseconds'}, {'timestamp': datetime.datetime(2024, 11, 15, 9, 41, 47, 64895), 'text': '[info] : Result saved to /workspace/output.json file'}]\n"
     ]
    }
   ],
   "source": [
    "default_args = [\n",
    "            \"solve\",\n",
    "            \"--matrix\",\n",
    "            f\"/workspace/Qmat.txt\",\n",
    "            \"--num-runs\",\n",
    "            \"20\",\n",
    "            \"--num-steps\",\n",
    "            \"25000\",\n",
    "            \"--output\",\n",
    "            f\"/workspace/output.json\",\n",
    "            \"--verbose\",\n",
    "            \"1\",\n",
    "            \"--gpu\",\n",
    "            \"--dt\",\n",
    "            \"0.5\",\n",
    "            \"--seed\",\n",
    "            \"42\",\n",
    "            \"--target\",\n",
    "            f\"{-FREE_TERM + 1000}\",\n",
    "            \"--timeout\",\n",
    "            \"300\",\n",
    "            \"--convergence-tolerance\",\n",
    "            \"0.000001\",\n",
    "            \"--alpha\",\n",
    "            \"0.9\",\n",
    "            \"--sigma\",\n",
    "            \"3.0\",\n",
    "            \"--q\",\n",
    "            \"0.1\"\n",
    "        ]\n",
    "\n",
    "process = client.create_process(\n",
    "    workspace_id=WORKSPACE_ID,\n",
    "    image=IMAGE_NAME,\n",
    "    name=\"run qiopt\",\n",
    "    cpu=\"10\",\n",
    "    ram=\"16\",\n",
    "    gpu=1,\n",
    "    command=\"qiopt\",\n",
    "    args=default_args,\n",
    ")\n",
    "\n",
    "print_status(\"Waiting for process to complete...\")\n",
    "while process[\"status\"] != \"COMPLETED\":\n",
    "    if process[\"status\"] in [\"CREATED\", \"SUBMITTED\", \"RUNNING\", \"COMPLETED\"]:\n",
    "        time.sleep(1)\n",
    "    else:\n",
    "        msg = client.get_process_output(process[\"id\"])\n",
    "        print_status(\"The process was not completed normally\")\n",
    "        raise ValueError(msg)\n",
    "    process = client.describe_process(process[\"id\"])\n",
    "print_status(\"Process completed.\")\n",
    "process_output = client.get_process_output(process[\"id\"])\n",
    "print_status(f\"Process_output: {process_output}\")\n",
    "\n",
    "client.get_file(\"output.json\", \"output_auto.json\", workspace_id=WORKSPACE_ID)"
   ]
  },
  {
   "cell_type": "code",
   "execution_count": 613,
   "id": "2504b7d2",
   "metadata": {},
   "outputs": [
    {
     "name": "stdout",
     "output_type": "stream",
     "text": [
      "Objective: 9697\n",
      "Constraint Lv=23.0\n",
      "Constraint Ly=0.0\n",
      "Constraint L1=15.0\n",
      "Constraint L2=13.0\n",
      "Constraint L3=2.0\n"
     ]
    }
   ],
   "source": [
    "with open(\"output_auto.json\", mode='rt') as in_f:\n",
    "    res = json.load(in_f)\n",
    "    \n",
    "sol_vec = np.asarray(res[\"Solution\"], dtype=int)\n",
    "print(\"Objective: \" + str(res[\"Objective\"] + FREE_TERM))\n",
    "print(f\"Constraint Lv={check_constraints(Lv, sol_vec, Lv_ft)}\")\n",
    "print(f\"Constraint Ly={check_constraints(Ly, sol_vec, Ly_ft)}\")\n",
    "print(f\"Constraint L1={check_constraints(L1, sol_vec, 0)}\")\n",
    "print(f\"Constraint L2={check_constraints(L2, sol_vec, L2_ft)}\")\n",
    "print(f\"Constraint L3={check_constraints(L3, sol_vec, 0)}\")"
   ]
  },
  {
   "cell_type": "code",
   "execution_count": 614,
   "id": "c92b905f",
   "metadata": {},
   "outputs": [
    {
     "name": "stdout",
     "output_type": "stream",
     "text": [
      "Bus #0 follows the next route:\n",
      "[[6], [0], [7], [7], [8], [22], [], [4], [2], [1], [2], [4], [2], []]\n",
      "It carries [2] people\n",
      "Bus #1 follows the next route:\n",
      "[[0], [0], [15], [], [42], [], [2], [12], [1], [45], [1], [35], [1], [15]]\n",
      "It carries [10] people\n",
      "Bus #2 follows the next route:\n",
      "[[0], [0], [18], [21], [0], [0], [0], [15], [15], [0], [18], [0], [15], [18]]\n",
      "It carries [0] people\n",
      "Bus #3 follows the next route:\n",
      "[[0], [0], [0], [0], [0], [6], [21], [6], [21], [0], [6], [0], [14], [6]]\n",
      "It carries [0] people\n",
      "Bus #4 follows the next route:\n",
      "[[18], [0], [0], [14], [0], [18], [0], [18], [0], [0], [], [10], [31], []]\n",
      "It carries [1] people\n",
      "Bus #5 follows the next route:\n",
      "[[0], [], [34], [9], [27], [], [20], [21], [0], [], [24], [25], [26], []]\n",
      "It carries [10] people\n",
      "Bus #6 follows the next route:\n",
      "[[15], [1], [1], [2], [3], [2], [9], [2], [12], [9], [38], [9], [19], []]\n",
      "It carries [2] people\n",
      "Bus #7 follows the next route:\n",
      "[[29], [0], [21], [], [32], [], [1], [1], [43], [], [28], [], [16], [21]]\n",
      "It carries [10] people\n",
      "Bus #8 follows the next route:\n",
      "[[33], [], [4], [3], [2], [9], [12], [36], [], [50], [], [1], [12], []]\n",
      "It carries [8] people\n",
      "Bus #9 follows the next route:\n",
      "[[0], [0], [0], [18], [0], [7], [6], [7], [0], [6], [7], [0], [7], [0]]\n",
      "It carries [0] people\n",
      "Bus #10 follows the next route:\n",
      "[[21], [6], [21], [20], [], [41], [], [37], [], [23], [], [14], [0], [0]]\n",
      "It carries [9] people\n",
      "Bus #11 follows the next route:\n",
      "[[0], [0], [6], [14], [0], [0], [15], [0], [18], [18], [0], [6], [0], [0]]\n",
      "It carries [1] people\n",
      "Bus #12 follows the next route:\n",
      "[[0], [15], [0], [6], [6], [0], [7], [0], [14], [0], [0], [7], [6], [14]]\n",
      "It carries [0] people\n",
      "Bus #13 follows the next route:\n",
      "[[0], [0], [14], [0], [14], [14], [0], [39], [8], [7], [0], [0], [21], [7]]\n",
      "It carries [4] people\n",
      "Bus #14 follows the next route:\n",
      "[[0], [0], [0], [0], [7], [21], [18], [0], [6], [21], [21], [0], [0], [0]]\n",
      "It carries [2] people\n"
     ]
    }
   ],
   "source": [
    "print_routes(sol_vec)"
   ]
  },
  {
   "cell_type": "code",
   "execution_count": 615,
   "id": "d90ec6ae",
   "metadata": {},
   "outputs": [
    {
     "data": {
      "text/plain": [
       "[[6, 0, 7, 7, 8, 22, 22, 4, 2, 1, 2, 4, 2, 2],\n",
       " [0, 0, 15, 15, 42, 42, 2, 12, 1, 45, 1, 35, 1, 15],\n",
       " [0, 0, 18, 21, 0, 0, 0, 15, 15, 0, 18, 0, 15, 18],\n",
       " [0, 0, 0, 0, 0, 6, 21, 6, 21, 0, 6, 0, 14, 6],\n",
       " [18, 0, 0, 14, 0, 18, 0, 18, 0, 0, 0, 10, 31, 31],\n",
       " [0, 0, 34, 9, 27, 27, 20, 21, 0, 0, 24, 25, 26, 26],\n",
       " [15, 1, 1, 2, 3, 2, 9, 2, 12, 9, 38, 9, 19, 19],\n",
       " [29, 0, 21, 21, 32, 32, 1, 1, 43, 43, 28, 28, 16, 21],\n",
       " [33, 33, 4, 3, 2, 9, 12, 36, 36, 50, 50, 1, 12, 12],\n",
       " [0, 0, 0, 18, 0, 7, 6, 7, 0, 6, 7, 0, 7, 0],\n",
       " [21, 6, 21, 20, 20, 41, 41, 37, 37, 23, 23, 14, 0, 0],\n",
       " [0, 0, 6, 14, 0, 0, 15, 0, 18, 18, 0, 6, 0, 0],\n",
       " [0, 15, 0, 6, 6, 0, 7, 0, 14, 0, 0, 7, 6, 14],\n",
       " [0, 0, 14, 0, 14, 14, 0, 39, 8, 7, 0, 0, 21, 7],\n",
       " [0, 0, 0, 0, 7, 21, 18, 0, 6, 21, 21, 0, 0, 0]]"
      ]
     },
     "execution_count": 615,
     "metadata": {},
     "output_type": "execute_result"
    }
   ],
   "source": [
    "rts = get_routes(sol_vec)\n",
    "rts"
   ]
  },
  {
   "cell_type": "code",
   "execution_count": 616,
   "id": "d40113e8",
   "metadata": {},
   "outputs": [
    {
     "name": "stdout",
     "output_type": "stream",
     "text": [
      "Рассадка по автобусам:\n",
      "[4, 14, 0, 0, 4, 14, 3, 16, 20, 0, 16, 0, 0, 3, 0]\n",
      "В некоторых автобусах более 10 людей\n",
      "Достопримечательность Музей «Паровозы России» посещена более 1 раза\n",
      "Достопримечательность Никольский собор посещена более 1 раза\n",
      "Достопримечательность Набережная Федоровского посещена более 1 раза\n",
      "Достопримечательность Русский музей фотографии посещена более 1 раза\n",
      "Достопримечательность Памятник Горькому посещена более 1 раза\n",
      "Достопримечательность Копосовская дубрава не была посещена вообще\n",
      "Достопримечательность Борский краеведческий музей посещена более 1 раза\n",
      "Достопримечательность Борский музей военной техники посещена более 1 раза\n",
      "Достопримечательность Спасский Староярмарочный собор посещена более 1 раза\n",
      "Достопримечательность Домик Петра 1 посещена более 1 раза\n",
      "Достопримечательность Нижегородский планетарий посещена более 1 раза\n",
      "Достопримечательность Собор Александра Невского не была посещена вообще\n",
      "Достопримечательность Большая Покровская улица 2 посещена более 1 раза\n",
      "Достопримечательность Святой источник Пафнутия Балахнинского посещена более 1 раза\n",
      "Достопримечательность Обзорная площадка на Гремячей горе посещена более 1 раза\n",
      "Достопримечательность Музей народов Нижегородского поволжья не была посещена вообще\n",
      "Достопримечательность Площадь Минина и Пожарского не была посещена вообще\n",
      "Достопримечательность Большая Покровская улица не была посещена вообще\n",
      "Достопримечательность Памятник Минину и Пожарскому не была посещена вообще\n",
      "Достопримечательность Нижегородская ярмарка не была посещена вообще\n",
      "Достопримечательность Зоопарк посещена более 1 раза\n",
      "Достопримечательность Музей Сахарова не была посещена вообще\n",
      "Достопримечательность Музей истории художественных промыслов не была посещена вообще\n",
      "Достопримечательность Щёлоковский хутор не была посещена вообще\n",
      "Достопримечательность Кремль не была посещена вообще\n",
      "Достопримечательность Стрелка не была посещена вообще\n",
      "Достопримечательность Чкаловская лестница не была посещена вообще\n",
      "Авария на такте 2\n",
      "Авария на такте 3\n",
      "Авария на такте 3\n",
      "Внедорожное движение на такте 6\n",
      "Внедорожное движение на такте 3\n",
      "Внедорожное движение на такте 5\n",
      "Внедорожное движение на такте 10\n",
      "Внедорожное движение на такте 1\n",
      "Внедорожное движение на такте 5\n",
      "Внедорожное движение на такте 9\n",
      "Внедорожное движение на такте 3\n",
      "Внедорожное движение на такте 5\n",
      "Внедорожное движение на такте 9\n",
      "Внедорожное движение на такте 11\n",
      "Внедорожное движение на такте 1\n",
      "Внедорожное движение на такте 8\n",
      "Внедорожное движение на такте 10\n",
      "Внедорожное движение на такте 4\n",
      "Внедорожное движение на такте 6\n",
      "Внедорожное движение на такте 8\n",
      "Внедорожное движение на такте 10\n",
      "Стоимость всех поездок в сумме (включая штрафы за внедорожную езду) составила 9598\n"
     ]
    }
   ],
   "source": [
    "# Verification\n",
    "# People limit\n",
    "peoples = [sum([B[j] for j in r]) for r in rts]\n",
    "print(\"Рассадка по автобусам:\")\n",
    "print(peoples)\n",
    "if max(peoples) > 10:\n",
    "    print(\"В некоторых автобусах более 10 людей\")\n",
    "    \n",
    "# Single sights visiting\n",
    "for j in range(sights_start, NUM_NODES):\n",
    "    sj = sum([1 for r in rts for jp in r if jp == j])\n",
    "    if sj > 1:\n",
    "        print(f\"Достопримечательность {node_names[j]} посещена более 1 раза\")\n",
    "    elif sj == 0:\n",
    "        print(f\"Достопримечательность {node_names[j]} не была посещена вообще\")\n",
    "        \n",
    "# Single vechicle in tact\n",
    "for i in range(NUM_TACTS):\n",
    "    visited = set()\n",
    "    for r in rts:\n",
    "        if (r[i] in visited) and (r[i] != 0):\n",
    "            print(f\"Авария на такте {i}\")\n",
    "        visited.add(r[i])\n",
    "\n",
    "# Total cost\n",
    "cost = 0\n",
    "for r in rts:\n",
    "    for i in range(NUM_TACTS - 1):\n",
    "        if A[r[i], r[i+1]] == MAX_INT:\n",
    "            print(f\"Внедорожное движение на такте {i}\")\n",
    "        cost += A[r[i], r[i+1]]\n",
    "        \n",
    "print(f\"Стоимость всех поездок в сумме (включая штрафы за внедорожную езду) составила {cost}\")"
   ]
  },
  {
   "cell_type": "markdown",
   "id": "854c5bf4",
   "metadata": {},
   "source": [
    "## Semiauto"
   ]
  },
  {
   "cell_type": "code",
   "execution_count": 562,
   "id": "9bf9e9f5",
   "metadata": {},
   "outputs": [],
   "source": [
    "scan_P = list(range(100, 150, 10))\n",
    "processes = []\n",
    "for i, p in enumerate(scan_P):\n",
    "    proc = client.create_process(\n",
    "        workspace_id=WORKSPACE_ID,\n",
    "        image=IMAGE_NAME,\n",
    "        name=f\"generating QUBO matrix #{i}\",\n",
    "        cpu=\"10\",\n",
    "        ram=\"16\",\n",
    "        gpu=0,\n",
    "        command=\"python3\",\n",
    "        args=[\"/workspace/QUBO_formandrum_args.py\", str(Pv), str(Py), str(P1), str(p), str(P3), \"500\", \"--out_file\", f\"Qmat#{i}.txt\"],\n",
    "    )\n",
    "    processes.append(proc)"
   ]
  },
  {
   "cell_type": "code",
   "execution_count": 563,
   "id": "3f9360a8",
   "metadata": {},
   "outputs": [],
   "source": [
    "processes = []\n",
    "for i, p in enumerate(scan_P):\n",
    "    default_args = [\n",
    "                \"solve\",\n",
    "                \"--matrix\",\n",
    "                f\"/workspace/Qmat#{i}.txt\",\n",
    "                \"--num-runs\",\n",
    "                \"10\",\n",
    "                \"--num-steps\",\n",
    "                \"17000\",\n",
    "                \"--output\",\n",
    "                f\"/workspace/outputN{i}.json\",\n",
    "                \"--verbose\",\n",
    "                \"1\",\n",
    "                \"--gpu\",\n",
    "                \"--dt\",\n",
    "                \"0.5\",\n",
    "                \"--seed\",\n",
    "                \"42\",\n",
    "                \"--target\",\n",
    "                f\"{-FREE_TERM + 1000}\",\n",
    "                \"--timeout\",\n",
    "                \"300\",\n",
    "                \"--convergence-tolerance\",\n",
    "                \"0.000001\",\n",
    "                \"--alpha\",\n",
    "                \"0.9\",\n",
    "                \"--sigma\",\n",
    "                \"3.0\",\n",
    "                \"--q\",\n",
    "                \"0.1\"\n",
    "            ]\n",
    "\n",
    "    proc = client.create_process(\n",
    "        workspace_id=WORKSPACE_ID,\n",
    "        image=IMAGE_NAME,\n",
    "        name=f\"run qiopt #{i}\",\n",
    "        cpu=\"10\",\n",
    "        ram=\"16\",\n",
    "        gpu=1,\n",
    "        command=\"qiopt\",\n",
    "        args=default_args,\n",
    "    )\n",
    "    processes.append(proc)"
   ]
  },
  {
   "cell_type": "code",
   "execution_count": 564,
   "id": "5c61a6de",
   "metadata": {},
   "outputs": [
    {
     "name": "stdout",
     "output_type": "stream",
     "text": [
      "0 100\n",
      "Constraint Lv=0.0\n",
      "Constraint Ly=0.0\n",
      "Constraint L1=8.0\n",
      "Constraint L2=19.0\n",
      "Constraint L3=6.0\n",
      "1 110\n",
      "Constraint Lv=0.0\n",
      "Constraint Ly=0.0\n",
      "Constraint L1=11.0\n",
      "Constraint L2=22.0\n",
      "Constraint L3=9.0\n",
      "2 120\n",
      "Constraint Lv=0.0\n",
      "Constraint Ly=0.0\n",
      "Constraint L1=22.0\n",
      "Constraint L2=20.0\n",
      "Constraint L3=9.0\n",
      "3 130\n",
      "Constraint Lv=0.0\n",
      "Constraint Ly=0.0\n",
      "Constraint L1=7.0\n",
      "Constraint L2=17.0\n",
      "Constraint L3=9.0\n",
      "4 140\n",
      "Constraint Lv=0.0\n",
      "Constraint Ly=0.0\n",
      "Constraint L1=17.0\n",
      "Constraint L2=15.0\n",
      "Constraint L3=10.0\n"
     ]
    }
   ],
   "source": [
    "for i, p in enumerate(scan_P):\n",
    "    print(i, p)\n",
    "    client.get_file(f\"outputN{i}.json\", f\"outputN{i}.json\", workspace_id=WORKSPACE_ID)\n",
    "    with open(f\"outputN{i}.json\", mode='rt') as in_f:\n",
    "        res = json.load(in_f)\n",
    "\n",
    "    sol_vec = np.asarray(res[\"Solution\"], dtype=int)\n",
    "    print(f\"Constraint Lv={check_constraints(Lv, sol_vec, Lv_ft)}\")\n",
    "    print(f\"Constraint Ly={check_constraints(Ly, sol_vec, Ly_ft)}\")\n",
    "    print(f\"Constraint L1={check_constraints(L1, sol_vec, 0)}\")\n",
    "    print(f\"Constraint L2={check_constraints(L2, sol_vec, L2_ft)}\")\n",
    "    print(f\"Constraint L3={check_constraints(L3, sol_vec, 0)}\")"
   ]
  },
  {
   "cell_type": "code",
   "execution_count": null,
   "id": "9642bb2b",
   "metadata": {},
   "outputs": [],
   "source": []
  },
  {
   "cell_type": "code",
   "execution_count": 303,
   "id": "65ff3d4e",
   "metadata": {},
   "outputs": [],
   "source": [
    "processes = []\n",
    "for i in range(10):\n",
    "    default_args = [\n",
    "                \"solve\",\n",
    "                \"--matrix\",\n",
    "                f\"/workspace/Qmat.txt\",\n",
    "                \"--num-runs\",\n",
    "                \"10\",\n",
    "                \"--num-steps\",\n",
    "                \"15000\",\n",
    "                \"--output\",\n",
    "                f\"/workspace/outputN{i}.json\",\n",
    "                \"--verbose\",\n",
    "                \"1\",\n",
    "                \"--gpu\",\n",
    "                \"--dt\",\n",
    "                \"0.5\",\n",
    "                \"--seed\",\n",
    "                \"42\",\n",
    "                \"--target\",\n",
    "                f\"{-FREE_TERM + 1000}\",\n",
    "                \"--timeout\",\n",
    "                \"300\",\n",
    "                \"--convergence-tolerance\",\n",
    "                \"0.000001\",\n",
    "                \"--alpha\",\n",
    "                \"0.9\",\n",
    "                \"--sigma\",\n",
    "                \"3.0\",\n",
    "                \"--q\",\n",
    "                \"0.1\"\n",
    "            ]\n",
    "\n",
    "    proc = client.create_process(\n",
    "        workspace_id=WORKSPACE_ID,\n",
    "        image=IMAGE_NAME,\n",
    "        name=f\"run qiopt #{i}\",\n",
    "        cpu=\"10\",\n",
    "        ram=\"16\",\n",
    "        gpu=1,\n",
    "        command=\"qiopt\",\n",
    "        args=default_args,\n",
    "    )\n",
    "    processes.append(proc)"
   ]
  },
  {
   "cell_type": "code",
   "execution_count": 305,
   "id": "66ce5c23",
   "metadata": {},
   "outputs": [
    {
     "name": "stdout",
     "output_type": "stream",
     "text": [
      "0\n",
      "Constraint Lv=0.0\n",
      "Constraint Ly=0.0\n",
      "Constraint L1=12.0\n",
      "Constraint L2=13.0\n",
      "Constraint L3=0.0\n",
      "1\n",
      "Constraint Lv=0.0\n",
      "Constraint Ly=0.0\n",
      "Constraint L1=12.0\n",
      "Constraint L2=13.0\n",
      "Constraint L3=0.0\n",
      "2\n",
      "Constraint Lv=0.0\n",
      "Constraint Ly=0.0\n",
      "Constraint L1=4.0\n",
      "Constraint L2=7.0\n",
      "Constraint L3=0.0\n",
      "3\n",
      "Constraint Lv=0.0\n",
      "Constraint Ly=0.0\n",
      "Constraint L1=12.0\n",
      "Constraint L2=13.0\n",
      "Constraint L3=0.0\n",
      "4\n",
      "Constraint Lv=0.0\n",
      "Constraint Ly=0.0\n",
      "Constraint L1=12.0\n",
      "Constraint L2=13.0\n",
      "Constraint L3=0.0\n",
      "5\n",
      "Constraint Lv=0.0\n",
      "Constraint Ly=0.0\n",
      "Constraint L1=12.0\n",
      "Constraint L2=13.0\n",
      "Constraint L3=0.0\n",
      "6\n",
      "Constraint Lv=0.0\n",
      "Constraint Ly=1.0\n",
      "Constraint L1=12.0\n",
      "Constraint L2=6.0\n",
      "Constraint L3=1.0\n",
      "7\n",
      "Constraint Lv=0.0\n",
      "Constraint Ly=1.0\n",
      "Constraint L1=10.0\n",
      "Constraint L2=6.0\n",
      "Constraint L3=1.0\n",
      "8\n",
      "Constraint Lv=0.0\n",
      "Constraint Ly=1.0\n",
      "Constraint L1=12.0\n",
      "Constraint L2=6.0\n",
      "Constraint L3=1.0\n",
      "9\n",
      "Constraint Lv=0.0\n",
      "Constraint Ly=0.0\n",
      "Constraint L1=12.0\n",
      "Constraint L2=13.0\n",
      "Constraint L3=0.0\n"
     ]
    }
   ],
   "source": [
    "for i in range(10):\n",
    "    print(i)\n",
    "    client.get_file(f\"outputN{i}.json\", f\"outputN{i}.json\", workspace_id=WORKSPACE_ID)\n",
    "    with open(f\"outputN{i}.json\", mode='rt') as in_f:\n",
    "        res = json.load(in_f)\n",
    "\n",
    "    sol_vec = np.asarray(res[\"Solution\"], dtype=int)\n",
    "    print(f\"Constraint Lv={check_constraints(Lv, sol_vec, Lv_ft)}\")\n",
    "    print(f\"Constraint Ly={check_constraints(Ly, sol_vec, Ly_ft)}\")\n",
    "    print(f\"Constraint L1={check_constraints(L1, sol_vec, 0)}\")\n",
    "    print(f\"Constraint L2={check_constraints(L2, sol_vec, L2_ft)}\")\n",
    "    print(f\"Constraint L3={check_constraints(L3, sol_vec, 0)}\")"
   ]
  },
  {
   "cell_type": "code",
   "execution_count": null,
   "id": "44733af3",
   "metadata": {},
   "outputs": [],
   "source": []
  },
  {
   "cell_type": "code",
   "execution_count": null,
   "id": "bda25f63",
   "metadata": {},
   "outputs": [],
   "source": []
  },
  {
   "cell_type": "code",
   "execution_count": 164,
   "id": "3919c28a",
   "metadata": {},
   "outputs": [
    {
     "name": "stdout",
     "output_type": "stream",
     "text": [
      "2024-11-15 04:38:36 Waiting for process to complete...\n",
      "2024-11-15 04:39:09 Process completed.\n",
      "2024-11-15 04:39:09 Process_output: [{'timestamp': datetime.datetime(2024, 11, 15, 4, 39, 6, 341018), 'text': \"['Вокзал', 'Канавинский мост 1', 'Перекресток 6', 'Перекресток 5', 'Мызинский мост 1', 'Перекресток 4', 'Перекресток 3', 'Перекресток 2', 'Перекресток 1', 'Перекресток 7', 'Неклюдово', 'Паромная переправа 2', 'Перекресток 8', 'Борский мост 1', 'Борский мост 2', 'Канавинский мост 2', 'Мызинский мост 2', 'Метромост 1', 'Метромост 2', 'Паромная переправа 1', 'Молитовский мост 1', 'Молитовский мост 2', 'Музей «Паровозы России»', 'Никольский собор', 'Нижне-Волжская набережная', 'Церковь Рождества Иоанна Предтечи на Торгу', 'Набережная Федоровского', 'Русский музей фотографии', 'Памятник Горькому', 'Мещерское озеро', 'Копосовская дубрава', 'Борский краеведческий музей', 'Борский музей военной техники', 'Спасский Староярмарочный собор', 'Литературный музей им. Горького', 'Рождественская церковь', 'Домик Петра 1', 'Нижегородский планетарий', 'Усадьба Рукавишниковых', 'Парк 1 мая', 'Собор Александра Невского', 'Большая Покровская улица 2', 'Святой источник Пафнутия Балахнинского', 'Обзорная площадка на Гремячей горе', 'Музей народов Нижегородского поволжья', 'Благовещенский монастырь', 'Площадь Минина и Пожарского', 'Большая Покровская улица', 'Памятник Минину и Пожарскому', 'Нижегородская ярмарка', 'Зоопарк', 'Музей Сахарова', 'Музей истории художественных промыслов', 'Щёлоковский хутор', 'Кремль', 'Стрелка', 'Чкаловская лестница']\"}, {'timestamp': datetime.datetime(2024, 11, 15, 4, 39, 6, 341067), 'text': 'Started H'}, {'timestamp': datetime.datetime(2024, 11, 15, 4, 39, 6, 341071), 'text': 'Started Lv'}, {'timestamp': datetime.datetime(2024, 11, 15, 4, 39, 6, 341075), 'text': 'Started Ly'}, {'timestamp': datetime.datetime(2024, 11, 15, 4, 39, 6, 341079), 'text': 'Started L1'}, {'timestamp': datetime.datetime(2024, 11, 15, 4, 39, 6, 341083), 'text': 'Started L2'}, {'timestamp': datetime.datetime(2024, 11, 15, 4, 39, 6, 341087), 'text': 'Started L3'}, {'timestamp': datetime.datetime(2024, 11, 15, 4, 39, 6, 341091), 'text': 'Combining'}, {'timestamp': datetime.datetime(2024, 11, 15, 4, 39, 6, 341095), 'text': 'Start writing file'}, {'timestamp': datetime.datetime(2024, 11, 15, 4, 39, 6, 341099), 'text': 'Objective is 2468.0'}, {'timestamp': datetime.datetime(2024, 11, 15, 4, 39, 6, 341103), 'text': 'Constraint Lv=0.0'}, {'timestamp': datetime.datetime(2024, 11, 15, 4, 39, 6, 341107), 'text': 'Constraint Ly=3.0'}, {'timestamp': datetime.datetime(2024, 11, 15, 4, 39, 6, 341110), 'text': 'Constraint L1=106.0'}, {'timestamp': datetime.datetime(2024, 11, 15, 4, 39, 6, 341114), 'text': 'Constraint L2=24.0'}, {'timestamp': datetime.datetime(2024, 11, 15, 4, 39, 6, 341118), 'text': 'Constraint L3=19.0'}]\n"
     ]
    }
   ],
   "source": [
    "process = client.create_process(\n",
    "    workspace_id=WORKSPACE_ID,\n",
    "    image=IMAGE_NAME,\n",
    "    name=\"generating QUBO matrix\",\n",
    "    cpu=\"10\",\n",
    "    ram=\"16\",\n",
    "    gpu=0,\n",
    "    command=\"python3\",\n",
    "    args=[\"/workspace/QUBO_formandrum_args.py\", str(Pv), str(Py), str(P1), str(P2), str(P3), \"100\", \"--out_file\", \"QqqQmat.txt\"],\n",
    ")\n",
    "\n",
    "print_status(\"Waiting for process to complete...\")\n",
    "while process[\"status\"] != \"COMPLETED\":\n",
    "    if process[\"status\"] in [\"CREATED\", \"SUBMITTED\", \"RUNNING\", \"COMPLETED\"]:\n",
    "        time.sleep(1)\n",
    "    else:\n",
    "        msg = client.get_process_output(process[\"id\"])\n",
    "        print_status(\"The process was not completed normally\")\n",
    "        raise ValueError(msg)\n",
    "    process = client.describe_process(process[\"id\"])\n",
    "print_status(\"Process completed.\")\n",
    "process_output = client.get_process_output(process[\"id\"])\n",
    "print_status(f\"Process_output: {process_output}\")"
   ]
  },
  {
   "cell_type": "code",
   "execution_count": null,
   "id": "69bbc6a3",
   "metadata": {},
   "outputs": [],
   "source": []
  },
  {
   "cell_type": "code",
   "execution_count": null,
   "id": "2f7979c2",
   "metadata": {},
   "outputs": [],
   "source": []
  },
  {
   "cell_type": "code",
   "execution_count": 177,
   "id": "acbd6bde",
   "metadata": {},
   "outputs": [],
   "source": [
    "Q = sp.sparse.coo_array(Qnp)\n",
    "with open(\"Qmat.txt\", mode='wt') as out_f:\n",
    "    out_f.write(f\"{SHAPE} {len(Q.row)}\\n\")\n",
    "    for c,r,d in zip(Q.col, Q.row, Q.data):\n",
    "        out_f.write(f\"{r+1} {c+1} {d}\\n\")"
   ]
  },
  {
   "cell_type": "code",
   "execution_count": null,
   "id": "6dda6eab",
   "metadata": {},
   "outputs": [],
   "source": [
    "client.put_file(source_path=\"Qmat.txt\", dest_path=\"Qmat.txt\", workspace_id=WORKSPACE_ID)"
   ]
  },
  {
   "cell_type": "code",
   "execution_count": 117,
   "id": "427d7609",
   "metadata": {},
   "outputs": [
    {
     "data": {
      "text/plain": [
       "-4816.0"
      ]
     },
     "execution_count": 117,
     "metadata": {},
     "output_type": "execute_result"
    }
   ],
   "source": [
    "sol_vec @ Qnp @ sol_vec"
   ]
  },
  {
   "cell_type": "code",
   "execution_count": 118,
   "id": "61b77bbc",
   "metadata": {},
   "outputs": [
    {
     "data": {
      "text/plain": [
       "-7130"
      ]
     },
     "execution_count": 118,
     "metadata": {},
     "output_type": "execute_result"
    }
   ],
   "source": [
    "res[\"Objective\"]"
   ]
  },
  {
   "cell_type": "markdown",
   "id": "d3403805",
   "metadata": {},
   "source": [
    "## With Z variables"
   ]
  },
  {
   "cell_type": "code",
   "execution_count": 388,
   "id": "110474f1",
   "metadata": {},
   "outputs": [],
   "source": [
    "Pv = 35\n",
    "Py = 35\n",
    "P1 = 3.5\n",
    "P2 = 25\n",
    "P3 = 15\n",
    "\n",
    "LvFT = Lv_ft*Pv\n",
    "LyFT = Ly_ft*Py\n",
    "L2FT = L2_ft*P2\n",
    "FREE_TERM = LvFT + LyFT + L2FT"
   ]
  },
  {
   "cell_type": "code",
   "execution_count": 389,
   "id": "5b99cd6a",
   "metadata": {},
   "outputs": [
    {
     "name": "stdout",
     "output_type": "stream",
     "text": [
      "2024-11-15 07:20:01 Waiting for process to complete...\n",
      "2024-11-15 07:21:04 Process completed.\n",
      "2024-11-15 07:21:04 Process_output: [{'timestamp': datetime.datetime(2024, 11, 15, 7, 21, 0, 266440), 'text': \"['Вокзал', 'Канавинский мост 1', 'Перекресток 6', 'Перекресток 5', 'Мызинский мост 1', 'Перекресток 4', 'Перекресток 3', 'Перекресток 2', 'Перекресток 1', 'Перекресток 7', 'Неклюдово', 'Паромная переправа 2', 'Перекресток 8', 'Борский мост 1', 'Борский мост 2', 'Канавинский мост 2', 'Мызинский мост 2', 'Метромост 1', 'Метромост 2', 'Паромная переправа 1', 'Молитовский мост 1', 'Молитовский мост 2', 'Музей «Паровозы России»', 'Никольский собор', 'Нижне-Волжская набережная', 'Церковь Рождества Иоанна Предтечи на Торгу', 'Набережная Федоровского', 'Русский музей фотографии', 'Памятник Горькому', 'Мещерское озеро', 'Копосовская дубрава', 'Борский краеведческий музей', 'Борский музей военной техники', 'Спасский Староярмарочный собор', 'Литературный музей им. Горького', 'Рождественская церковь', 'Домик Петра 1', 'Нижегородский планетарий', 'Усадьба Рукавишниковых', 'Парк 1 мая', 'Собор Александра Невского', 'Большая Покровская улица 2', 'Святой источник Пафнутия Балахнинского', 'Обзорная площадка на Гремячей горе', 'Музей народов Нижегородского поволжья', 'Благовещенский монастырь', 'Площадь Минина и Пожарского', 'Большая Покровская улица', 'Памятник Минину и Пожарскому', 'Нижегородская ярмарка', 'Зоопарк', 'Музей Сахарова', 'Музей истории художественных промыслов', 'Щёлоковский хутор', 'Кремль', 'Стрелка', 'Чкаловская лестница']\"}, {'timestamp': datetime.datetime(2024, 11, 15, 7, 21, 0, 266502), 'text': 'Started H'}, {'timestamp': datetime.datetime(2024, 11, 15, 7, 21, 0, 266512), 'text': 'Started Lv'}, {'timestamp': datetime.datetime(2024, 11, 15, 7, 21, 0, 266519), 'text': 'Started Ly'}, {'timestamp': datetime.datetime(2024, 11, 15, 7, 21, 0, 266525), 'text': 'Started L2'}, {'timestamp': datetime.datetime(2024, 11, 15, 7, 21, 0, 266532), 'text': 'Started L1'}, {'timestamp': datetime.datetime(2024, 11, 15, 7, 21, 0, 266539), 'text': 'Started L3'}, {'timestamp': datetime.datetime(2024, 11, 15, 7, 21, 0, 266546), 'text': 'Combining'}, {'timestamp': datetime.datetime(2024, 11, 15, 7, 21, 0, 266553), 'text': 'Start writing file'}]\n"
     ]
    }
   ],
   "source": [
    "process = client.create_process(\n",
    "        workspace_id=WORKSPACE_ID,\n",
    "        image=IMAGE_NAME,\n",
    "        name=f\"generating QUBO matrix Z\",\n",
    "        cpu=\"10\",\n",
    "        ram=\"16\",\n",
    "        gpu=0,\n",
    "        command=\"python3\",\n",
    "        args=[\"/workspace/QUBO_formandrum_args_z.py\", str(Pv), str(Py), str(P1), str(P2), str(P3), \"100\", \"--out_file\", f\"Qmat_z.txt\"],\n",
    "    )\n",
    "print_status(\"Waiting for process to complete...\")\n",
    "while process[\"status\"] != \"COMPLETED\":\n",
    "    if process[\"status\"] in [\"CREATED\", \"SUBMITTED\", \"RUNNING\", \"COMPLETED\"]:\n",
    "        time.sleep(1)\n",
    "    else:\n",
    "        msg = client.get_process_output(process[\"id\"])\n",
    "        print_status(\"The process was not completed normally\")\n",
    "        raise ValueError(msg)\n",
    "    process = client.describe_process(process[\"id\"])\n",
    "print_status(\"Process completed.\")\n",
    "process_output = client.get_process_output(process[\"id\"])\n",
    "print_status(f\"Process_output: {process_output}\")"
   ]
  },
  {
   "cell_type": "code",
   "execution_count": 390,
   "id": "944fe7ca",
   "metadata": {},
   "outputs": [
    {
     "name": "stdout",
     "output_type": "stream",
     "text": [
      "2024-11-15 07:21:05 Waiting for process to complete...\n",
      "2024-11-15 07:22:08 Process completed.\n",
      "2024-11-15 07:22:08 Process_output: [{'timestamp': datetime.datetime(2024, 11, 15, 7, 21, 9, 19251), 'text': '[info] : CUDA device: Quadro RTX 5000'}, {'timestamp': datetime.datetime(2024, 11, 15, 7, 21, 9, 882763), 'text': '[info] : Problem reading time: 842 milliseconds'}, {'timestamp': datetime.datetime(2024, 11, 15, 7, 21, 10, 805715), 'text': '[info] : SimCimSolverGpu::solve(): Running on 10 / 64 threads'}, {'timestamp': datetime.datetime(2024, 11, 15, 7, 22, 5, 316387), 'text': '[info] : Problem solving time: 55433 milliseconds'}, {'timestamp': datetime.datetime(2024, 11, 15, 7, 22, 5, 358805), 'text': '[info] : Result saved to /workspace/output.json file'}]\n"
     ]
    }
   ],
   "source": [
    "default_args = [\n",
    "            \"solve\",\n",
    "            \"--matrix\",\n",
    "            f\"/workspace/Qmat_z.txt\",\n",
    "            \"--num-runs\",\n",
    "            \"10\",\n",
    "            \"--num-steps\",\n",
    "            \"17000\",\n",
    "            \"--output\",\n",
    "            f\"/workspace/output.json\",\n",
    "            \"--verbose\",\n",
    "            \"1\",\n",
    "            \"--gpu\",\n",
    "            \"--dt\",\n",
    "            \"0.5\",\n",
    "            \"--seed\",\n",
    "            \"42\",\n",
    "            \"--target\",\n",
    "            f\"{-FREE_TERM + 1000}\",\n",
    "            \"--timeout\",\n",
    "            \"300\",\n",
    "            \"--convergence-tolerance\",\n",
    "            \"0.000001\",\n",
    "            \"--alpha\",\n",
    "            \"0.9\",\n",
    "            \"--sigma\",\n",
    "            \"3.0\",\n",
    "            \"--q\",\n",
    "            \"0.1\"\n",
    "        ]\n",
    "\n",
    "process = client.create_process(\n",
    "    workspace_id=WORKSPACE_ID,\n",
    "    image=IMAGE_NAME,\n",
    "    name=\"run qiopt\",\n",
    "    cpu=\"10\",\n",
    "    ram=\"16\",\n",
    "    gpu=1,\n",
    "    command=\"qiopt\",\n",
    "    args=default_args,\n",
    ")\n",
    "\n",
    "print_status(\"Waiting for process to complete...\")\n",
    "while process[\"status\"] != \"COMPLETED\":\n",
    "    if process[\"status\"] in [\"CREATED\", \"SUBMITTED\", \"RUNNING\", \"COMPLETED\"]:\n",
    "        time.sleep(1)\n",
    "    else:\n",
    "        msg = client.get_process_output(process[\"id\"])\n",
    "        print_status(\"The process was not completed normally\")\n",
    "        raise ValueError(msg)\n",
    "    process = client.describe_process(process[\"id\"])\n",
    "print_status(\"Process completed.\")\n",
    "process_output = client.get_process_output(process[\"id\"])\n",
    "print_status(f\"Process_output: {process_output}\")\n",
    "\n",
    "client.get_file(\"output.json\", \"output_auto.json\", workspace_id=WORKSPACE_ID)"
   ]
  },
  {
   "cell_type": "code",
   "execution_count": 391,
   "id": "66efeca8",
   "metadata": {},
   "outputs": [
    {
     "data": {
      "text/plain": [
       "-65944"
      ]
     },
     "execution_count": 391,
     "metadata": {},
     "output_type": "execute_result"
    }
   ],
   "source": [
    "res[\"Objective\"] + FREE_TERM"
   ]
  },
  {
   "cell_type": "code",
   "execution_count": 392,
   "id": "d67777a9",
   "metadata": {},
   "outputs": [
    {
     "name": "stdout",
     "output_type": "stream",
     "text": [
      "Constraint Lv=210.0\n",
      "Constraint Ly=15.0\n",
      "Constraint L1=0.0\n",
      "Constraint L2=35.0\n",
      "Constraint L3=0.0\n"
     ]
    }
   ],
   "source": [
    "with open(\"output_auto.json\", mode='rt') as in_f:\n",
    "    res = json.load(in_f)\n",
    "    \n",
    "sol_vec = np.asarray(res[\"Solution\"], dtype=int)\n",
    "print(f\"Constraint Lv={check_constraints(LvZ, sol_vec, Lv_ft)}\")\n",
    "print(f\"Constraint Ly={check_constraints(LyZ, sol_vec, Ly_ft)}\")\n",
    "print(f\"Constraint L1={check_constraints(L1Z, sol_vec, 0)}\")\n",
    "print(f\"Constraint L2={check_constraints(L2Z, sol_vec, L2_ft)}\")\n",
    "print(f\"Constraint L3={check_constraints(L3Z, sol_vec, 0)}\")"
   ]
  },
  {
   "cell_type": "code",
   "execution_count": 393,
   "id": "471883e0",
   "metadata": {},
   "outputs": [
    {
     "name": "stdout",
     "output_type": "stream",
     "text": [
      "Bus #0 follows the next route:\n",
      "[[29], [0], [], [41], [], [42], [], [18], [], [45], [], [39], [0], [49]]\n",
      "Passengers exit in\n",
      "[[], [], [], [], [], [], [], [], [], [], [], [], [], []]\n",
      "It carries [9] people\n",
      "Bus #1 follows the next route:\n",
      "[[0], [21], [], [25], [], [29], [], [44], [], [6], [], [9], [], [14]]\n",
      "Passengers exit in\n",
      "[[], [], [], [], [], [], [], [], [], [], [], [], [], []]\n",
      "It carries [8, 10] people\n",
      "Bus #2 follows the next route:\n",
      "[[39], [0], [], [30], [], [35], [], [50], [50], [], [29], [40], [49], [0]]\n",
      "Passengers exit in\n",
      "[[], [], [], [], [], [], [], [], [], [], [], [], [], []]\n",
      "It carries [9] people\n",
      "Bus #3 follows the next route:\n",
      "[[], [31], [], [48], [], [0], [18], [17], [], [25], [26], [26], [], [33]]\n",
      "Passengers exit in\n",
      "[[], [], [], [], [], [], [], [], [], [], [], [], [], []]\n",
      "It carries [10] people\n",
      "Bus #4 follows the next route:\n",
      "[[0], [15], [40], [], [47], [45], [45], [1], [24], [1], [43], [], [29], [0]]\n",
      "Passengers exit in\n",
      "[[], [], [], [], [], [], [], [], [], [], [], [], [], []]\n",
      "It carries [8, 10] people\n",
      "Bus #5 follows the next route:\n",
      "[[0], [], [19], [25], [26], [26], [48], [], [30], [42], [42], [], [27], []]\n",
      "Passengers exit in\n",
      "[[], [], [], [], [], [], [], [], [], [], [], [], [], []]\n",
      "It carries [8, 10] people\n",
      "Bus #6 follows the next route:\n",
      "[[29], [33], [15], [1], [12], [48], [12], [27], [], [8], [], [49], [0], [39]]\n",
      "Passengers exit in\n",
      "[[], [], [], [], [], [], [], [], [], [], [], [], [], []]\n",
      "It carries [10] people\n",
      "Bus #7 follows the next route:\n",
      "[[], [11], [32], [31], [], [30], [], [53], [], [35], [], [46], [], [0]]\n",
      "Passengers exit in\n",
      "[[], [], [], [], [], [], [], [], [], [], [], [], [], []]\n",
      "It carries [3, 5] people\n",
      "Bus #8 follows the next route:\n",
      "[[7], [], [4], [4], [2], [2], [], [22], [7], [50], [], [34], [], [0]]\n",
      "Passengers exit in\n",
      "[[], [], [], [], [], [], [], [], [], [], [], [], [], []]\n",
      "It carries [10] people\n",
      "Bus #9 follows the next route:\n",
      "[[37], [], [23], [], [28], [], [42], [], [19], [], [52], [], [14], [0]]\n",
      "Passengers exit in\n",
      "[[], [], [], [], [], [], [], [], [], [], [], [], [], []]\n",
      "It carries [10] people\n",
      "Bus #10 follows the next route:\n",
      "[[15], [1], [2], [], [32], [], [6], [0], [], [48], [], [4], [], [29]]\n",
      "Passengers exit in\n",
      "[[], [], [], [], [], [], [], [], [], [], [], [], [], []]\n",
      "It carries [10] people\n",
      "Bus #11 follows the next route:\n",
      "[[18], [0], [14], [0], [37], [], [52], [], [46], [], [6], [0], [0], [0]]\n",
      "Passengers exit in\n",
      "[[], [], [], [], [], [], [], [], [], [], [], [], [], []]\n",
      "It carries [9, 10] people\n",
      "Bus #12 follows the next route:\n",
      "[[33], [], [16], [21], [7], [7], [21], [0], [0], [0], [33], [], [41], []]\n",
      "Passengers exit in\n",
      "[[], [], [], [], [], [], [], [], [], [], [], [], [], []]\n",
      "It carries [8, 10] people\n",
      "Bus #13 follows the next route:\n",
      "[[], [41], [], [15], [], [3], [], [49], [], [31], [], [35], [], [0]]\n",
      "Passengers exit in\n",
      "[[], [], [], [], [], [], [], [], [], [], [], [], [], []]\n",
      "It carries [7] people\n",
      "Bus #14 follows the next route:\n",
      "[[0], [], [10], [], [3], [], [26], [], [14], [55], [15], [0], [37], [0]]\n",
      "Passengers exit in\n",
      "[[], [], [], [], [], [], [], [], [], [], [], [], [], []]\n",
      "It carries [9] people\n"
     ]
    }
   ],
   "source": [
    "print_routes_z(sol_vec)"
   ]
  },
  {
   "cell_type": "code",
   "execution_count": 384,
   "id": "5c6f3420",
   "metadata": {},
   "outputs": [
    {
     "ename": "IndexError",
     "evalue": "index 0 is out of bounds for axis 0 with size 0",
     "output_type": "error",
     "traceback": [
      "\u001b[1;31m---------------------------------------------------------------------------\u001b[0m",
      "\u001b[1;31mIndexError\u001b[0m                                Traceback (most recent call last)",
      "Cell \u001b[1;32mIn[384], line 1\u001b[0m\n\u001b[1;32m----> 1\u001b[0m rts, stps \u001b[38;5;241m=\u001b[39m \u001b[43mget_routes_and_stops_z\u001b[49m\u001b[43m(\u001b[49m\u001b[43msol_vec\u001b[49m\u001b[43m)\u001b[49m\n",
      "Cell \u001b[1;32mIn[383], line 9\u001b[0m, in \u001b[0;36mget_routes_and_stops_z\u001b[1;34m(vec)\u001b[0m\n\u001b[0;32m      7\u001b[0m \u001b[38;5;28;01mfor\u001b[39;00m i \u001b[38;5;129;01min\u001b[39;00m \u001b[38;5;28mrange\u001b[39m(\u001b[38;5;241m1\u001b[39m, MAX_TACTS):\n\u001b[0;32m      8\u001b[0m     route\u001b[38;5;241m.\u001b[39mappend(np\u001b[38;5;241m.\u001b[39mwhere(vec[get_index_z([\u001b[38;5;124m\"\u001b[39m\u001b[38;5;124mv\u001b[39m\u001b[38;5;124m\"\u001b[39m, b, i, \u001b[38;5;241m0\u001b[39m]):get_index_z([\u001b[38;5;124m\"\u001b[39m\u001b[38;5;124mv\u001b[39m\u001b[38;5;124m\"\u001b[39m, b, i\u001b[38;5;241m+\u001b[39m\u001b[38;5;241m1\u001b[39m, \u001b[38;5;241m0\u001b[39m])])[\u001b[38;5;241m0\u001b[39m][\u001b[38;5;241m0\u001b[39m])\n\u001b[1;32m----> 9\u001b[0m     stop\u001b[38;5;241m.\u001b[39mappend(\u001b[43mnp\u001b[49m\u001b[38;5;241;43m.\u001b[39;49m\u001b[43mwhere\u001b[49m\u001b[43m(\u001b[49m\u001b[43mvec\u001b[49m\u001b[43m[\u001b[49m\u001b[43mget_index_z\u001b[49m\u001b[43m(\u001b[49m\u001b[43m[\u001b[49m\u001b[38;5;124;43m\"\u001b[39;49m\u001b[38;5;124;43mz\u001b[39;49m\u001b[38;5;124;43m\"\u001b[39;49m\u001b[43m,\u001b[49m\u001b[43m \u001b[49m\u001b[43mb\u001b[49m\u001b[43m,\u001b[49m\u001b[43m \u001b[49m\u001b[43mi\u001b[49m\u001b[43m,\u001b[49m\u001b[43m \u001b[49m\u001b[43msights_start\u001b[49m\u001b[43m]\u001b[49m\u001b[43m)\u001b[49m\u001b[43m:\u001b[49m\u001b[43mget_index_z\u001b[49m\u001b[43m(\u001b[49m\u001b[43m[\u001b[49m\u001b[38;5;124;43m\"\u001b[39;49m\u001b[38;5;124;43mz\u001b[39;49m\u001b[38;5;124;43m\"\u001b[39;49m\u001b[43m,\u001b[49m\u001b[43m \u001b[49m\u001b[43mb\u001b[49m\u001b[43m,\u001b[49m\u001b[43m \u001b[49m\u001b[43mi\u001b[49m\u001b[38;5;241;43m+\u001b[39;49m\u001b[38;5;241;43m1\u001b[39;49m\u001b[43m,\u001b[49m\u001b[43m \u001b[49m\u001b[43msights_start\u001b[49m\u001b[43m]\u001b[49m\u001b[43m)\u001b[49m\u001b[43m]\u001b[49m\u001b[43m)\u001b[49m\u001b[43m[\u001b[49m\u001b[38;5;241;43m0\u001b[39;49m\u001b[43m]\u001b[49m\u001b[43m[\u001b[49m\u001b[38;5;241;43m0\u001b[39;49m\u001b[43m]\u001b[49m)\n\u001b[0;32m     10\u001b[0m routes\u001b[38;5;241m.\u001b[39mappend(route)\n\u001b[0;32m     11\u001b[0m stops\u001b[38;5;241m.\u001b[39mappend(stop)\n",
      "\u001b[1;31mIndexError\u001b[0m: index 0 is out of bounds for axis 0 with size 0"
     ]
    }
   ],
   "source": [
    "rts, stps = get_routes_and_stops_z(sol_vec)"
   ]
  },
  {
   "cell_type": "code",
   "execution_count": null,
   "id": "8ef7fdb5",
   "metadata": {},
   "outputs": [],
   "source": []
  },
  {
   "cell_type": "code",
   "execution_count": 382,
   "id": "7a87036e",
   "metadata": {},
   "outputs": [
    {
     "data": {
      "text/plain": [
       "[17, 19, 19, 14, 31, 15, 24, 28, 19, 16, 24, 27, 33, 29, 14]"
      ]
     },
     "execution_count": 382,
     "metadata": {},
     "output_type": "execute_result"
    }
   ],
   "source": [
    "peoples = [sum([B[j] for j in set(br)]) for br in rts]\n",
    "peoples"
   ]
  },
  {
   "cell_type": "code",
   "execution_count": null,
   "id": "60b153d9",
   "metadata": {},
   "outputs": [],
   "source": []
  },
  {
   "cell_type": "code",
   "execution_count": 344,
   "id": "af94d966",
   "metadata": {},
   "outputs": [],
   "source": [
    "def get_index_z(inp : list) -> int:\n",
    "    \"\"\"\n",
    "    Returns integer index in big array of element v,b,i,j or y,b,k or z,b,i,j\n",
    "    \"\"\"\n",
    "    var = inp\n",
    "    if var[0] == \"v\":\n",
    "        return NUM_TACTS*NUM_NODES*int(var[1]) + NUM_NODES*(int(var[2]) - 1) + int(var[3])\n",
    "    elif var[0] == \"y\":\n",
    "        return NUM_BUSES*NUM_TACTS*(NUM_NODES + NUM_SIGHTS) + (MAX_PEOPLE + 1)*int(var[1]) + int(var[2])\n",
    "    elif var[0] == \"z\":\n",
    "        return NUM_BUSES*NUM_TACTS*NUM_NODES + NUM_TACTS*NUM_SIGHTS*int(var[1]) + NUM_SIGHTS*(int(var[2]) - 1) + int(var[3]) - sights_start\n"
   ]
  },
  {
   "cell_type": "code",
   "execution_count": 385,
   "id": "6268bc6f",
   "metadata": {},
   "outputs": [],
   "source": [
    "def print_routes_z(vec):\n",
    "    for b in range(NUM_BUSES):\n",
    "        print(f\"Bus #{b} follows the next route:\")\n",
    "        route = []\n",
    "        stop = []\n",
    "        for i in range(1, MAX_TACTS):\n",
    "            route.append(list(*np.where(vec[get_index_z([\"v\", b, i, 0]):get_index_z([\"v\", b, i+1, 0])])))\n",
    "            stop.append(list(*np.where(vec[get_index_z([\"z\", b, i, sights_start]):get_index_z([\"v\", b, i+1, sights_start])])))\n",
    "        print(route)\n",
    "        print(f\"Passengers exit in\")\n",
    "        print(stop)\n",
    "        print(\"It carries \" + str(list(*np.where(vec[get_index_z([\"y\", b, 0]):get_index_z([\"y\", b, NUM_PEOPLE])]))) + \" people\")"
   ]
  },
  {
   "cell_type": "code",
   "execution_count": 383,
   "id": "7370361a",
   "metadata": {},
   "outputs": [],
   "source": [
    "def get_routes_and_stops_z(vec):\n",
    "    routes = []\n",
    "    stops = []\n",
    "    for b in range(NUM_BUSES):\n",
    "        route = []\n",
    "        stop = []\n",
    "        for i in range(1, MAX_TACTS):\n",
    "            route.append(np.where(vec[get_index_z([\"v\", b, i, 0]):get_index_z([\"v\", b, i+1, 0])])[0][0])\n",
    "            stop.append(np.where(vec[get_index_z([\"z\", b, i, sights_start]):get_index_z([\"z\", b, i+1, sights_start])])[0][0])\n",
    "        routes.append(route)\n",
    "        stops.append(stop)\n",
    "    return (routes, stops)"
   ]
  },
  {
   "cell_type": "code",
   "execution_count": 352,
   "id": "bbc049b1",
   "metadata": {},
   "outputs": [
    {
     "name": "stdout",
     "output_type": "stream",
     "text": [
      "Started Ly\n",
      "Started L2\n",
      "Started L1\n",
      "Started L3\n"
     ]
    }
   ],
   "source": [
    "SHAPEZ = NUM_BUSES*NUM_TACTS*(NUM_NODES + NUM_SIGHTS) + NUM_BUSES*NUM_PEOPLE\n",
    "\n",
    "LvZ = np.zeros((SHAPEZ, SHAPEZ))\n",
    "for b, i, j in itertools.product(range(NUM_BUSES), range(1,MAX_TACTS), range(NUM_NODES)):\n",
    "    Lv[get_index_z([\"v\",b,i,j]), get_index_z([\"v\",b,i,j])] -= 2\n",
    "for b, i, j, jp in itertools.product(range(NUM_BUSES), range(1,MAX_TACTS), range(NUM_NODES), range(NUM_NODES)):\n",
    "    Lv[get_index_z([\"v\",b,i,j]), get_index_z([\"v\",b,i,jp])] += 1\n",
    "\n",
    "# Ly\n",
    "print(\"Started Ly\")\n",
    "LyZ = np.zeros((SHAPEZ, SHAPEZ))\n",
    "for b, k in itertools.product(range(NUM_BUSES), range(NUM_PEOPLE)):\n",
    "    ind = get_index_z([\"y\", b, k])\n",
    "    Ly[ind, ind] -= 2\n",
    "    \n",
    "for b, k, kp in itertools.product(range(NUM_BUSES), range(NUM_PEOPLE), range(NUM_PEOPLE)):\n",
    "    Ly[get_index_z([\"y\", b, k]), get_index_z([\"y\", b, kp])] += 1\n",
    "\n",
    "# L2 = Lz \n",
    "print(\"Started L2\")\n",
    "L2Z = np.zeros((SHAPEZ, SHAPEZ))\n",
    "for j in range(sights_start, NUM_NODES):\n",
    "    for b,i in itertools.product(range(NUM_BUSES), range(1, MAX_TACTS)):\n",
    "        ind = get_index_z([\"z\", b, i, j])\n",
    "        L2[ind, ind] -= 2\n",
    "        for bp,ip in itertools.product(range(NUM_BUSES), range(1, MAX_TACTS)):\n",
    "            ind2 = get_index_z([\"z\", bp, ip, j])\n",
    "            L2[ind, ind2] += 1\n",
    "\n",
    "# L1\n",
    "print(\"Started L1\")\n",
    "L1Z = np.zeros((SHAPEZ, SHAPEZ))\n",
    "for b in range(NUM_BUSES):\n",
    "    for i,ip,j,jp in itertools.product(range(1,MAX_TACTS), range(1,MAX_TACTS), \n",
    "                                    range(sights_start, NUM_NODES), range(sights_start, NUM_NODES)):\n",
    "        L1[get_index_z([\"z\", b, i, j]), get_index_z([\"z\", b, ip, jp])] += B[j]*B[jp]\n",
    "    \n",
    "    for k,kp in itertools.product(range(1, NUM_PEOPLE), range(1, NUM_PEOPLE)):\n",
    "        L1[get_index_z([\"y\", b, k]), get_index_z([\"y\", b, kp])] += k*kp\n",
    "        \n",
    "    for i,j,k in itertools.product(range(1, MAX_TACTS), range(sights_start, NUM_NODES), range(1, NUM_PEOPLE)):\n",
    "        L1[get_index_z([\"z\", b, i, j]), get_index_z([\"y\", b, k])] -= 2 * B[j] * k\n",
    "        \n",
    "# L3\n",
    "print(\"Started L3\")\n",
    "L3Z = np.zeros((SHAPEZ, SHAPEZ))\n",
    "for i,j in itertools.product(range(1, MAX_TACTS), range(1, NUM_NODES)):\n",
    "    for b,bp in itertools.combinations(range(NUM_BUSES), 2):\n",
    "        L3[get_index_z([\"v\", b, i, j]), get_index_z([\"v\", bp, i, j])] += 1\n"
   ]
  },
  {
   "cell_type": "code",
   "execution_count": null,
   "id": "30ab8517",
   "metadata": {},
   "outputs": [],
   "source": []
  }
 ],
 "metadata": {
  "kernelspec": {
   "display_name": "Python 3 (ipykernel)",
   "language": "python",
   "name": "python3"
  },
  "language_info": {
   "codemirror_mode": {
    "name": "ipython",
    "version": 3
   },
   "file_extension": ".py",
   "mimetype": "text/x-python",
   "name": "python",
   "nbconvert_exporter": "python",
   "pygments_lexer": "ipython3",
   "version": "3.11.4"
  }
 },
 "nbformat": 4,
 "nbformat_minor": 5
}
