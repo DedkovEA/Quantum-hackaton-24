{
 "cells": [
  {
   "cell_type": "code",
   "execution_count": 135,
   "id": "c2dc4a77",
   "metadata": {},
   "outputs": [],
   "source": [
    "import numpy as np\n",
    "import scipy as sp\n",
    "import pandas as pd\n",
    "import itertools"
   ]
  },
  {
   "cell_type": "markdown",
   "id": "2ea97941",
   "metadata": {},
   "source": [
    "Обозначим все узлы дорожной сети числами от 0 до 56, вокзал будет 0. Введем матрицу $57\\times 57$ стоимости перемещения $A_{ij}$, равную стоимости перемещения между узлами с номерами $i,j$. Введем также вектор $B_j$, который соответствует числу людей в экскурсионной группе для узла $j$. За множество $S$ обозначим номера всех достопримечательностей."
   ]
  },
  {
   "cell_type": "code",
   "execution_count": 55,
   "id": "b405fc14",
   "metadata": {},
   "outputs": [],
   "source": [
    "MAX_INT = 100\n",
    "nodes_frame = pd.read_csv(\"task-2-nodes.csv\", header=None, index_col=0).sort_values(1)\n",
    "edges_frame = pd.read_csv(\"task-2-adjacency_matrix.csv\", index_col=0, na_values=[\"-\"])\n",
    "\n",
    "# Sorting nodes such that initial is 0, and all crossings are at the beginning\n",
    "initial_node = \"Вокзал\"\n",
    "node_names = nodes_frame.index.tolist()\n",
    "node_names.remove(initial_node)\n",
    "node_names.insert(0, initial_node)\n",
    "assert len(node_names) == 57 and node_names[0]==initial_node, \"Sonething goes wrong with reordering initial node\"\n",
    "\n",
    "A = edges_frame.reindex(index=node_names, columns=node_names).to_numpy(na_value=MAX_INT, copy=True).astype(int)\n",
    "B = nodes_frame.reindex(index=node_names).to_numpy(na_value=MAX_INT, copy=True).astype(int).reshape((-1))\n",
    "sights_start = np.searchsorted(B, 0, side='right')  # Start of nodes which should be visited only once"
   ]
  },
  {
   "cell_type": "code",
   "execution_count": 46,
   "id": "0d2fea93",
   "metadata": {},
   "outputs": [
    {
     "data": {
      "text/plain": [
       "array([[  0, 100, 100, ..., 100, 100, 100],\n",
       "       [100,   0,   5, ..., 100, 100, 100],\n",
       "       [100,   5,   0, ..., 100, 100, 100],\n",
       "       ...,\n",
       "       [100, 100, 100, ...,   0, 100,   3],\n",
       "       [100, 100, 100, ..., 100,   0, 100],\n",
       "       [100, 100, 100, ...,   3, 100,   0]])"
      ]
     },
     "execution_count": 46,
     "metadata": {},
     "output_type": "execute_result"
    }
   ],
   "source": [
    "A"
   ]
  },
  {
   "cell_type": "code",
   "execution_count": 205,
   "id": "a2ae6794",
   "metadata": {},
   "outputs": [
    {
     "data": {
      "text/plain": [
       "array([0, 0, 0, 0, 0, 0, 0, 0, 0, 0, 0, 0, 0, 0, 0, 0, 0, 0, 0, 0, 0, 0,\n",
       "       2, 2, 2, 2, 2, 2, 2, 2, 2, 2, 2, 2, 2, 3, 3, 3, 3, 3, 3, 3, 3, 3,\n",
       "       5, 5, 5, 5, 5, 5, 5, 5, 5, 9, 9, 9, 9])"
      ]
     },
     "execution_count": 205,
     "metadata": {},
     "output_type": "execute_result"
    }
   ],
   "source": [
    "B"
   ]
  },
  {
   "cell_type": "code",
   "execution_count": 204,
   "id": "f2a37948",
   "metadata": {},
   "outputs": [
    {
     "data": {
      "text/plain": [
       "35"
      ]
     },
     "execution_count": 204,
     "metadata": {},
     "output_type": "execute_result"
    }
   ],
   "source": [
    "len(list(*np.where(B)))"
   ]
  },
  {
   "cell_type": "markdown",
   "id": "b14bd4fe",
   "metadata": {},
   "source": [
    "Поскольку имеется ограничение в 15 тактов, заведем для каждого автобуса векторы как в отборочной задаче, однако допустим, чтобы вершины повторялись. Тогда нам потребуется отжиг $15 \\cdot 14 \\cdot 57 = 11970$ кубитов. Это довольно-таки много, и асимптотика также плохая.\n",
    "\n",
    "По сути, минимально нам требуется закодировать маршрут каждого автобуса. Для этого достаточно указать 14 промежуточных вершин, подразумевая что 0-ая и 15-ая это вокзал. Как минимум нам требуется $15 \\cdot 14 = 210$ дискретных переменных от 0 до 56. В лучшем случае, используя двочную кодировку нам потребуется $\\lceil \\log_2 57 \\rceil = 6$ кубитов, что дает вменяемый размер задачи $15 \\cdot 14 \\cdot 6 = 1260$. Проблема может возникнуть на этапе вычисления выражений\n",
    "$$\n",
    "a_{v^b_i, v^b_j} = \\sum_{\\alpha, \\beta} a_{\\alpha, \\beta}\\delta(\\alpha, v^b_i) \\delta(\\beta, v^b_j)\n",
    "$$\n",
    "Если $\\alpha = \\sum_{i=0}^{5} \\alpha[i] 2^{i}$, а $v$ закодировано в виде 6 бит так же ($v = \\sum_{i=0}^5 v[i]2^i$), имеем\n",
    "$$\n",
    "\\delta(\\alpha, v) = \\prod_{i=0}^{5} (v[i]\\cdot \\alpha[i] + (1-v[i])\\cdot(1 - \\alpha[i]))\n",
    "$$"
   ]
  },
  {
   "cell_type": "markdown",
   "id": "630cdfca",
   "metadata": {},
   "source": [
    "## Прямолинейный метод кодирования"
   ]
  },
  {
   "cell_type": "markdown",
   "id": "935144ea",
   "metadata": {},
   "source": [
    "**Важно:** мы будем предполагать, что автобусу запрещено стоять на достопримечательности."
   ]
  },
  {
   "cell_type": "markdown",
   "id": "f5b54c36",
   "metadata": {},
   "source": [
    "Заведем бинарный вектор $v^b_{ij}$, где $b\\in\\{0,\\dots, 14\\}$, $i\\in \\{1,\\dots, 14\\}$ и $j\\in\\{0,\\dots, 57\\}$, и\n",
    "$$\n",
    "v^b_{ij} = \\begin{cases}\n",
    "    1, & \\text{если $b$-й автобус на $i$ такте перемещается в вершину $j$}, \\\\\n",
    "    0, & \\text{иначе}.\n",
    "\\end{cases}\n",
    "$$\n",
    "\n",
    "В таком случае имеются следующее естественное ограничение:\n",
    "$$\n",
    "\\forall b, i \\hookrightarrow \\sum_{j} v^b_{ij} = 1,\n",
    "$$\n",
    "выражающее собой тот факт, что на $i$-м такте автобус находится хотя бы в одной вершине.\n",
    "\n",
    "Его функция потерь есть\n",
    "$$\n",
    "L_v := \\sum_{b,i} \\left( \\sum_j v^b_{ij} - 1 \\right)^2 = \\sum_{b,i} \\left( \\sum_{j,j'} v^b_{ij}v^b_{ij'} - 2 \\sum_j v^b_{ij} + 1 \\right)\n",
    "$$\n",
    "\n",
    "Далее определим условия в виде ограничений.\n",
    "1. Автобусов уже 15. Чтобы не привысить вместимость, необходимо выполнить условие\n",
    "$$\n",
    "\\forall b \\hookrightarrow \\sum_{j} B_j \\sum_{i} v^b_{ij} \\leq 10\n",
    "$$\n",
    "Вводим дополнительные переменные - число занятых мест в виде one-hot-encoding, $y^b_k = 1$ если в автобусе $b$ занято $k$ мест, $k=0,\\dots,10$. Ограничения такой кодировки есть\n",
    "$$\n",
    "\\forall b \\hookrightarrow \\sum_k y^b_k = 1,\n",
    "$$\n",
    "что соответствует потерям\n",
    "$$\n",
    "L_y := \\sum_b \\left( \\sum_{k} y^b_k  - 1 \\right)^2 = \\sum_b \\left( \\sum_{k,k'} y^b_k y^b_{k'} - 2\\sum_k y^b_k + 1 \\right) .\n",
    "$$\n",
    "Тогда функция потерь этого пункта есть\n",
    "$$\n",
    "L_1 := \\sum_b \\left( \\sum_{i,j} B_j v^{b}_{ij} - \\sum_k k y^b_k \\right)^2 = \\sum_b \\left( \\sum_{i,j,i',j'} B_jB_{j'} v^{b}_{ij}v^{b}_{i'j'} + \\sum_{k,k'} kk' y^b_k y^b_{k'} - 2\\sum_{i,j,k} B_j k v^{b}_{ij} y^b_k \\right)\n",
    "$$\n",
    "\n",
    "2. Достопримечательности должны быть посещены ровно 1 раз (и нельзя в них стоять)\n",
    "$$\n",
    "\\forall j \\in S \\hookrightarrow \\sum_{b,i} v^b_{ij} = 1\n",
    "$$\n",
    "Соответственно потери есть\n",
    "$$\n",
    "L_2 := \\sum_{j\\in S} \\left(\\sum_{b,i} v^b_{ij} - 1 \\right)^2 = \\sum_{j\\in S} \\left(\\sum_{b,i,b',i'} v^{b}_{ij}v^{b'}_{i'j} - 2\\sum_{b,i} v^b_{ij} + 1 \\right)\n",
    "$$\n",
    "\n",
    "3. На узле (кроме вокзала) не более 1 машины\n",
    "$$\n",
    "\\forall i, j \\neq 0 \\hookrightarrow \\sum_{b} v^b_{i,j} \\leq 1.\n",
    "$$\n",
    "Это эффективно соответствует функции потерь\n",
    "$$\n",
    "L_3 := \\sum_{i,j\\neq 0} \\sum_{b_1\\neq b_2} v^{b_1}_{ij} v^{b_2}_{ij}\n",
    "$$\n",
    "\n",
    "Минимизировать требуется функцию (старт и финиш на вокзале):\n",
    "$$\n",
    "H := \\sum_{b} \\left( \\sum_j A_{0j}v^b_{1j} + \\sum_{i=1}^{13} \\sum_{j,j'} A_{jj'} v^b_{ij} v^b_{(i+1)j'} + \\sum_j A_{j0} v^b_{14j} \\right)\n",
    "$$"
   ]
  },
  {
   "cell_type": "code",
   "execution_count": null,
   "id": "bc063b5c",
   "metadata": {},
   "outputs": [],
   "source": []
  },
  {
   "cell_type": "code",
   "execution_count": 169,
   "id": "52912f1d",
   "metadata": {},
   "outputs": [],
   "source": [
    "NUM_BUSES = 15\n",
    "MAX_PEOPLE = 10\n",
    "MAX_TACTS = 15\n",
    "NUM_TACTS = MAX_TACTS - 1\n",
    "NUM_NODES = len(node_names)\n",
    "NUM_PEOPLE = MAX_PEOPLE + 1\n",
    "\n",
    "# Array will be encoded as {v[b,i,j], y[b,k]}\n",
    "# b = 0,...,NUM_BUSES-1\n",
    "# i = 1,...,NUM_TACTS-1\n",
    "# j = 0,...,NUM_NODES-1\n",
    "# k = 0,...,MAX_PEOPLE\n",
    "\n",
    "def get_index(inp : list) -> int:\n",
    "    \"\"\"\n",
    "    Returns integer index in big array of element v,b,i,j or y,b,k\n",
    "    \"\"\"\n",
    "    var = inp\n",
    "    if var[0] == \"v\":\n",
    "        return (MAX_TACTS-1)*NUM_NODES*int(var[1]) + NUM_NODES*(int(var[2]) - 1) + int(var[3])\n",
    "    elif var[0] == \"y\":\n",
    "        return NUM_BUSES*NUM_TACTS*NUM_NODES + (MAX_PEOPLE + 1)*int(var[1]) + int(var[2])"
   ]
  },
  {
   "cell_type": "code",
   "execution_count": 187,
   "id": "6c06f0a3",
   "metadata": {},
   "outputs": [],
   "source": [
    "SHAPE = NUM_BUSES*NUM_TACTS*NUM_NODES + NUM_BUSES*NUM_PEOPLE\n",
    "H = np.zeros((SHAPE, SHAPE))\n",
    "for b, j in itertools.product(range(NUM_BUSES), range(NUM_NODES)):\n",
    "    ind = get_index([\"v\",b,1,j])\n",
    "    H[ind, ind] += A[0,j]\n",
    "    ind = get_index([\"v\",b,NUM_TACTS,j])\n",
    "    H[ind, ind] += A[j,0]\n",
    "\n",
    "for b, i, j, jp in itertools.product(range(NUM_BUSES), range(1,MAX_TACTS-1), range(NUM_NODES), range(NUM_NODES)):\n",
    "    H[get_index([\"v\",b,i,j]), get_index([\"v\",b,i+1,jp])] += A[j,jp]"
   ]
  },
  {
   "cell_type": "code",
   "execution_count": 177,
   "id": "43d03c90",
   "metadata": {},
   "outputs": [],
   "source": [
    "Lv = np.zeros((SHAPE, SHAPE))\n",
    "for b, i, j in itertools.product(range(NUM_BUSES), range(1,MAX_TACTS), range(NUM_NODES)):\n",
    "    Lv[get_index([\"v\",b,i,j]), get_index([\"v\",b,i,j])] -= 2\n",
    "for b, i, j, jp in itertools.product(range(NUM_BUSES), range(1,MAX_TACTS), range(NUM_NODES), range(NUM_NODES)):\n",
    "    Lv[get_index([\"v\",b,i,j]), get_index([\"v\",b,i,jp])] += 1"
   ]
  },
  {
   "cell_type": "code",
   "execution_count": 190,
   "id": "b32ae506",
   "metadata": {},
   "outputs": [],
   "source": [
    "Ly = np.zeros((SHAPE, SHAPE))\n",
    "for b, k in itertools.product(range(NUM_BUSES), range(NUM_PEOPLE)):\n",
    "    ind = get_index([\"y\", b, k])\n",
    "    Ly[ind, ind] -= 2\n",
    "    \n",
    "for b, k, kp in itertools.product(range(NUM_BUSES), range(NUM_PEOPLE), range(NUM_PEOPLE)):\n",
    "    Ly[get_index([\"y\", b, k]), get_index([\"y\", b, kp])] += 1"
   ]
  },
  {
   "cell_type": "code",
   "execution_count": 192,
   "id": "abc55a4d",
   "metadata": {},
   "outputs": [],
   "source": [
    "L1 = np.zeros((SHAPE, SHAPE))\n",
    "for b in range(NUM_BUSES):\n",
    "    for i,ip,j,jp in itertools.product(range(1,MAX_TACTS), range(1,MAX_TACTS), \n",
    "                                       range(sights_start, NUM_NODES), range(sights_start, NUM_NODES)):\n",
    "        L1[get_index([\"v\", b, i, j]), get_index([\"v\", b, ip, jp])] += B[j]*B[jp]\n",
    "    \n",
    "    for k,kp in itertools.product(range(1, NUM_PEOPLE), range(1, NUM_PEOPLE)):\n",
    "        L1[get_index([\"y\", b, k]), get_index([\"y\", b, kp])] += k*kp\n",
    "        \n",
    "    for i,j,k in itertools.product(range(1, MAX_TACTS), range(sights_start, NUM_NODES), range(1, NUM_PEOPLE)):\n",
    "        L1[get_index([\"v\", b, i, j]), get_index([\"y\", b, k])] -= 2 * B[j] * k"
   ]
  },
  {
   "cell_type": "code",
   "execution_count": 194,
   "id": "d8ba306f",
   "metadata": {},
   "outputs": [],
   "source": [
    "L2 = np.zeros((SHAPE, SHAPE))\n",
    "for j in range(sights_start, NUM_NODES):\n",
    "    for b,i in itertools.product(range(NUM_BUSES), range(1, MAX_TACTS)):\n",
    "        ind = get_index([\"v\", b, i, j])\n",
    "        L2[ind, ind] -= 2\n",
    "        for bp,ip in itertools.product(range(NUM_BUSES), range(1, MAX_TACTS)):\n",
    "            ind2 = get_index([\"v\", bp, ip, j])\n",
    "            L2[ind, ind2] += 1"
   ]
  },
  {
   "cell_type": "code",
   "execution_count": 195,
   "id": "ceec4e7f",
   "metadata": {},
   "outputs": [],
   "source": [
    "L3 = np.zeros((SHAPE, SHAPE))\n",
    "for i,j in itertools.product(range(1, MAX_TACTS), range(1, NUM_NODES)):\n",
    "    for b,bp in itertools.combinations(range(NUM_BUSES), 2):\n",
    "        L3[get_index([\"v\", b, i, j]), get_index([\"v\", bp, i, j])] += 1"
   ]
  },
  {
   "cell_type": "code",
   "execution_count": 196,
   "id": "b9a30508",
   "metadata": {},
   "outputs": [],
   "source": [
    "NUM_SIGHTS = NUM_NODES - sights_start\n",
    "FREE_TERM = NUM_BUSES * NUM_TACTS + NUM_BUSES + NUM_SIGHTS"
   ]
  },
  {
   "cell_type": "code",
   "execution_count": null,
   "id": "16eb2e9e",
   "metadata": {},
   "outputs": [],
   "source": [
    "Q = sp.sparse.coo_array()"
   ]
  },
  {
   "cell_type": "code",
   "execution_count": 207,
   "id": "1dba3776",
   "metadata": {},
   "outputs": [],
   "source": [
    "sp.sparse.save_npz(\"test.npz\", )"
   ]
  },
  {
   "cell_type": "code",
   "execution_count": 208,
   "id": "c8e1cd9d",
   "metadata": {},
   "outputs": [],
   "source": [
    "tst = sp.sparse.coo_array(np.arange(4).reshape((2,2)))"
   ]
  },
  {
   "cell_type": "code",
   "execution_count": null,
   "id": "b70d64d7",
   "metadata": {},
   "outputs": [],
   "source": []
  },
  {
   "cell_type": "code",
   "execution_count": 188,
   "id": "6c02f65a",
   "metadata": {},
   "outputs": [
    {
     "data": {
      "text/plain": [
       "array([[  0.,   0.,   0., ...,   0.,   0.,   0.],\n",
       "       [  0., 100.,   0., ...,   0.,   0.,   0.],\n",
       "       [  0.,   0., 100., ...,   0.,   0.,   0.],\n",
       "       ...,\n",
       "       [  0.,   0.,   0., ..., 100.,   0.,   0.],\n",
       "       [  0.,   0.,   0., ...,   0., 100.,   0.],\n",
       "       [  0.,   0.,   0., ...,   0.,   0., 100.]])"
      ]
     },
     "execution_count": 188,
     "metadata": {},
     "output_type": "execute_result"
    }
   ],
   "source": [
    "ARR_SHAPE_V = (NUM_BUSES, NUM_TACTS, NUM_NODES)\n",
    "SHAPE_V = NUM_BUSES*NUM_TACTS*NUM_NODES\n",
    "ARR_SHAPE_Y = (NUM_BUSES, NUM_PEOPLE)\n",
    "SHAPE_Y = NUM_BUSES*NUM_PEOPLE\n",
    "\n",
    "Hij = np.zeros((NUM_TACTS, NUM_NODES, NUM_TACTS, NUM_NODES))\n",
    "Hij[0,:,0,:] = np.diag(A[0,:])    # first term\n",
    "Hij[-1,:,-1,:] = np.diag(A[:,0])  # last term\n",
    "for i in range(NUM_TACTS - 1):\n",
    "    Hij[i,:,i+1,:] += A\n",
    "Ht = np.reshape(np.einsum(\"ab,ijkl->aijbkl\", np.eye(NUM_BUSES), Hij), (SHAPE_V, SHAPE_V))\n",
    "\n",
    "np.reshape(Hij, (NUM_TACTS*NUM_NODES, NUM_TACTS*NUM_NODES))"
   ]
  },
  {
   "cell_type": "code",
   "execution_count": 189,
   "id": "87ace0b3",
   "metadata": {},
   "outputs": [
    {
     "data": {
      "text/plain": [
       "0.0"
      ]
     },
     "execution_count": 189,
     "metadata": {},
     "output_type": "execute_result"
    }
   ],
   "source": [
    "np.max(H[:SHAPE_V, :SHAPE_V]-Ht)"
   ]
  },
  {
   "cell_type": "code",
   "execution_count": 154,
   "id": "d0de3923",
   "metadata": {},
   "outputs": [
    {
     "data": {
      "text/plain": [
       "11970"
      ]
     },
     "execution_count": 154,
     "metadata": {},
     "output_type": "execute_result"
    }
   ],
   "source": [
    "SHAPE_V"
   ]
  },
  {
   "cell_type": "code",
   "execution_count": 93,
   "id": "b982c365",
   "metadata": {},
   "outputs": [],
   "source": [
    "tst = np.array([[1,2], [3,4]])"
   ]
  },
  {
   "cell_type": "code",
   "execution_count": 95,
   "id": "4b11d4ad",
   "metadata": {},
   "outputs": [],
   "source": [
    "tst[:,1] = 0"
   ]
  },
  {
   "cell_type": "code",
   "execution_count": 96,
   "id": "67a9b615",
   "metadata": {},
   "outputs": [
    {
     "data": {
      "text/plain": [
       "array([[1, 0],\n",
       "       [3, 0]])"
      ]
     },
     "execution_count": 96,
     "metadata": {},
     "output_type": "execute_result"
    }
   ],
   "source": [
    "tst"
   ]
  },
  {
   "cell_type": "code",
   "execution_count": 100,
   "id": "7314ab65",
   "metadata": {},
   "outputs": [
    {
     "data": {
      "text/plain": [
       "(15, 14, 57, 15, 14, 57)"
      ]
     },
     "execution_count": 100,
     "metadata": {},
     "output_type": "execute_result"
    }
   ],
   "source": [
    "(*ARR_SHAPE_V, *ARR_SHAPE_V)"
   ]
  },
  {
   "cell_type": "code",
   "execution_count": 123,
   "id": "a8d77615",
   "metadata": {},
   "outputs": [],
   "source": [
    "tst = np.arange(36)"
   ]
  },
  {
   "cell_type": "code",
   "execution_count": 127,
   "id": "43a9999d",
   "metadata": {},
   "outputs": [],
   "source": [
    "tst2 = tst.reshape((2,3,2,3))"
   ]
  },
  {
   "cell_type": "code",
   "execution_count": 128,
   "id": "6f21814f",
   "metadata": {},
   "outputs": [
    {
     "data": {
      "text/plain": [
       "array([[[[ 0,  1,  2],\n",
       "         [ 3,  4,  5]],\n",
       "\n",
       "        [[ 6,  7,  8],\n",
       "         [ 9, 10, 11]],\n",
       "\n",
       "        [[12, 13, 14],\n",
       "         [15, 16, 17]]],\n",
       "\n",
       "\n",
       "       [[[18, 19, 20],\n",
       "         [21, 22, 23]],\n",
       "\n",
       "        [[24, 25, 26],\n",
       "         [27, 28, 29]],\n",
       "\n",
       "        [[30, 31, 32],\n",
       "         [33, 34, 35]]]])"
      ]
     },
     "execution_count": 128,
     "metadata": {},
     "output_type": "execute_result"
    }
   ],
   "source": [
    "tst2"
   ]
  },
  {
   "cell_type": "code",
   "execution_count": 131,
   "id": "14c573b8",
   "metadata": {},
   "outputs": [
    {
     "data": {
      "text/plain": [
       "array([12, 13, 14, 15, 16, 17])"
      ]
     },
     "execution_count": 131,
     "metadata": {},
     "output_type": "execute_result"
    }
   ],
   "source": [
    "tst2.reshape((6,6))[2,:]"
   ]
  },
  {
   "cell_type": "code",
   "execution_count": null,
   "id": "81a52a0c",
   "metadata": {},
   "outputs": [],
   "source": []
  }
 ],
 "metadata": {
  "kernelspec": {
   "display_name": "Python 3 (ipykernel)",
   "language": "python",
   "name": "python3"
  },
  "language_info": {
   "codemirror_mode": {
    "name": "ipython",
    "version": 3
   },
   "file_extension": ".py",
   "mimetype": "text/x-python",
   "name": "python",
   "nbconvert_exporter": "python",
   "pygments_lexer": "ipython3",
   "version": "3.11.4"
  }
 },
 "nbformat": 4,
 "nbformat_minor": 5
}
