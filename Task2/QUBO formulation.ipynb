{
 "cells": [
  {
   "cell_type": "code",
   "execution_count": 135,
   "id": "5025872c",
   "metadata": {},
   "outputs": [],
   "source": [
    "import numpy as np\n",
    "import scipy as sp\n",
    "import pandas as pd\n",
    "import itertools"
   ]
  },
  {
   "cell_type": "markdown",
   "id": "f59ab081",
   "metadata": {},
   "source": [
    "Обозначим все узлы дорожной сети числами от 0 до 56, вокзал будет 0. Введем матрицу $57\\times 57$ стоимости перемещения $A_{ij}$, равную стоимости перемещения между узлами с номерами $i,j$. Введем также вектор $B_j$, который соответствует числу людей в экскурсионной группе для узла $j$. За множество $S$ обозначим номера всех достопримечательностей."
   ]
  },
  {
   "cell_type": "code",
   "execution_count": 55,
   "id": "e6988cc6",
   "metadata": {},
   "outputs": [],
   "source": [
    "MAX_INT = 100\n",
    "nodes_frame = pd.read_csv(\"task-2-nodes.csv\", header=None, index_col=0).sort_values(1)\n",
    "edges_frame = pd.read_csv(\"task-2-adjacency_matrix.csv\", index_col=0, na_values=[\"-\"])\n",
    "\n",
    "# Sorting nodes such that initial is 0, and all crossings are at the beginning\n",
    "initial_node = \"Вокзал\"\n",
    "node_names = nodes_frame.index.tolist()\n",
    "node_names.remove(initial_node)\n",
    "node_names.insert(0, initial_node)\n",
    "assert len(node_names) == 57 and node_names[0]==initial_node, \"Sonething goes wrong with reordering initial node\"\n",
    "\n",
    "A = edges_frame.reindex(index=node_names, columns=node_names).to_numpy(na_value=MAX_INT, copy=True).astype(int)\n",
    "B = nodes_frame.reindex(index=node_names).to_numpy(na_value=MAX_INT, copy=True).astype(int).reshape((-1))\n",
    "sights_start = np.searchsorted(B, 0, side='right')  # Start of nodes which should be visited only once"
   ]
  },
  {
   "cell_type": "code",
   "execution_count": 46,
   "id": "04ad9594",
   "metadata": {},
   "outputs": [
    {
     "data": {
      "text/plain": [
       "array([[  0, 100, 100, ..., 100, 100, 100],\n",
       "       [100,   0,   5, ..., 100, 100, 100],\n",
       "       [100,   5,   0, ..., 100, 100, 100],\n",
       "       ...,\n",
       "       [100, 100, 100, ...,   0, 100,   3],\n",
       "       [100, 100, 100, ..., 100,   0, 100],\n",
       "       [100, 100, 100, ...,   3, 100,   0]])"
      ]
     },
     "execution_count": 46,
     "metadata": {},
     "output_type": "execute_result"
    }
   ],
   "source": [
    "A"
   ]
  },
  {
   "cell_type": "code",
   "execution_count": 205,
   "id": "22a08abf",
   "metadata": {},
   "outputs": [
    {
     "data": {
      "text/plain": [
       "array([0, 0, 0, 0, 0, 0, 0, 0, 0, 0, 0, 0, 0, 0, 0, 0, 0, 0, 0, 0, 0, 0,\n",
       "       2, 2, 2, 2, 2, 2, 2, 2, 2, 2, 2, 2, 2, 3, 3, 3, 3, 3, 3, 3, 3, 3,\n",
       "       5, 5, 5, 5, 5, 5, 5, 5, 5, 9, 9, 9, 9])"
      ]
     },
     "execution_count": 205,
     "metadata": {},
     "output_type": "execute_result"
    }
   ],
   "source": [
    "B"
   ]
  },
  {
   "cell_type": "code",
   "execution_count": 204,
   "id": "677ce812",
   "metadata": {},
   "outputs": [
    {
     "data": {
      "text/plain": [
       "35"
      ]
     },
     "execution_count": 204,
     "metadata": {},
     "output_type": "execute_result"
    }
   ],
   "source": [
    "len(list(*np.where(B)))"
   ]
  },
  {
   "cell_type": "markdown",
   "id": "d63c4ef7",
   "metadata": {},
   "source": [
    "Поскольку имеется ограничение в 15 тактов, заведем для каждого автобуса векторы как в отборочной задаче, однако допустим, чтобы вершины повторялись. Тогда нам потребуется отжиг $15 \\cdot 14 \\cdot 57 = 11970$ кубитов. Это довольно-таки много, и асимптотика также плохая.\n",
    "\n",
    "По сути, минимально нам требуется закодировать маршрут каждого автобуса. Для этого достаточно указать 14 промежуточных вершин, подразумевая что 0-ая и 15-ая это вокзал. Как минимум нам требуется $15 \\cdot 14 = 210$ дискретных переменных от 0 до 56. В лучшем случае, используя двочную кодировку нам потребуется $\\lceil \\log_2 57 \\rceil = 6$ кубитов, что дает вменяемый размер задачи $15 \\cdot 14 \\cdot 6 = 1260$. Проблема может возникнуть на этапе вычисления выражений\n",
    "$$\n",
    "a_{v^b_i, v^b_j} = \\sum_{\\alpha, \\beta} a_{\\alpha, \\beta}\\delta(\\alpha, v^b_i) \\delta(\\beta, v^b_j)\n",
    "$$\n",
    "Если $\\alpha = \\sum_{i=0}^{5} \\alpha[i] 2^{i}$, а $v$ закодировано в виде 6 бит так же ($v = \\sum_{i=0}^5 v[i]2^i$), имеем\n",
    "$$\n",
    "\\delta(\\alpha, v) = \\prod_{i=0}^{5} (v[i]\\cdot \\alpha[i] + (1-v[i])\\cdot(1 - \\alpha[i]))\n",
    "$$"
   ]
  },
  {
   "cell_type": "markdown",
   "id": "1f6d7163",
   "metadata": {},
   "source": [
    "## Прямолинейный метод кодирования"
   ]
  },
  {
   "cell_type": "markdown",
   "id": "9cf3f3fe",
   "metadata": {},
   "source": [
    "**Важно:** мы будем предполагать, что автобусу запрещено стоять на достопримечательности."
   ]
  },
  {
   "cell_type": "markdown",
   "id": "09609006",
   "metadata": {},
   "source": [
    "Заведем бинарный вектор $v^b_{ij}$, где $b\\in\\{0,\\dots, 14\\}$, $i\\in \\{1,\\dots, 14\\}$ и $j\\in\\{0,\\dots, 57\\}$, и\n",
    "$$\n",
    "v^b_{ij} = \\begin{cases}\n",
    "    1, & \\text{если $b$-й автобус на $i$ такте перемещается в вершину $j$}, \\\\\n",
    "    0, & \\text{иначе}.\n",
    "\\end{cases}\n",
    "$$\n",
    "\n",
    "В таком случае имеются следующее естественное ограничение:\n",
    "$$\n",
    "\\forall b, i \\hookrightarrow \\sum_{j} v^b_{ij} = 1,\n",
    "$$\n",
    "выражающее собой тот факт, что на $i$-м такте автобус находится хотя бы в одной вершине.\n",
    "\n",
    "Его функция потерь есть\n",
    "$$\n",
    "L_v := \\sum_{b,i} \\left( \\sum_j v^b_{ij} - 1 \\right)^2 = \\sum_{b,i} \\left( \\sum_{j,j'} v^b_{ij}v^b_{ij'} - 2 \\sum_j v^b_{ij} + 1 \\right)\n",
    "$$\n",
    "\n",
    "Далее определим условия в виде ограничений.\n",
    "1. Автобусов уже 15. Чтобы не привысить вместимость, необходимо выполнить условие\n",
    "$$\n",
    "\\forall b \\hookrightarrow \\sum_{j} B_j \\sum_{i} v^b_{ij} \\leq 10\n",
    "$$\n",
    "Вводим дополнительные переменные - число занятых мест в виде one-hot-encoding, $y^b_k = 1$ если в автобусе $b$ занято $k$ мест, $k=0,\\dots,10$. Ограничения такой кодировки есть\n",
    "$$\n",
    "\\forall b \\hookrightarrow \\sum_k y^b_k = 1,\n",
    "$$\n",
    "что соответствует потерям\n",
    "$$\n",
    "L_y := \\sum_b \\left( \\sum_{k} y^b_k  - 1 \\right)^2 = \\sum_b \\left( \\sum_{k,k'} y^b_k y^b_{k'} - 2\\sum_k y^b_k + 1 \\right) .\n",
    "$$\n",
    "Тогда функция потерь этого пункта есть\n",
    "$$\n",
    "L_1 := \\sum_b \\left( \\sum_{i,j} B_j v^{b}_{ij} - \\sum_k k y^b_k \\right)^2 = \\sum_b \\left( \\sum_{i,j,i',j'} B_jB_{j'} v^{b}_{ij}v^{b}_{i'j'} + \\sum_{k,k'} kk' y^b_k y^b_{k'} - 2\\sum_{i,j,k} B_j k v^{b}_{ij} y^b_k \\right)\n",
    "$$\n",
    "\n",
    "2. Достопримечательности должны быть посещены ровно 1 раз (и нельзя в них стоять)\n",
    "$$\n",
    "\\forall j \\in S \\hookrightarrow \\sum_{b,i} v^b_{ij} = 1\n",
    "$$\n",
    "Соответственно потери есть\n",
    "$$\n",
    "L_2 := \\sum_{j\\in S} \\left(\\sum_{b,i} v^b_{ij} - 1 \\right)^2 = \\sum_{j\\in S} \\left(\\sum_{b,i,b',i'} v^{b}_{ij}v^{b'}_{i'j} - 2\\sum_{b,i} v^b_{ij} + 1 \\right)\n",
    "$$\n",
    "\n",
    "3. На узле (кроме вокзала) не более 1 машины\n",
    "$$\n",
    "\\forall i, j \\neq 0 \\hookrightarrow \\sum_{b} v^b_{i,j} \\leq 1.\n",
    "$$\n",
    "Это эффективно соответствует функции потерь\n",
    "$$\n",
    "L_3 := \\sum_{i,j\\neq 0} \\sum_{b_1\\neq b_2} v^{b_1}_{ij} v^{b_2}_{ij}\n",
    "$$\n",
    "\n",
    "Минимизировать требуется функцию (старт и финиш на вокзале):\n",
    "$$\n",
    "H := \\sum_{b} \\left( \\sum_j A_{0j}v^b_{1j} + \\sum_{i=1}^{13} \\sum_{j,j'} A_{jj'} v^b_{ij} v^b_{(i+1)j'} + \\sum_j A_{j0} v^b_{14j} \\right)\n",
    "$$"
   ]
  },
  {
   "cell_type": "code",
   "execution_count": null,
   "id": "c84c2510",
   "metadata": {},
   "outputs": [],
   "source": []
  },
  {
   "cell_type": "code",
   "execution_count": 263,
   "id": "7dbf621d",
   "metadata": {},
   "outputs": [],
   "source": [
    "NUM_BUSES = 15\n",
    "MAX_PEOPLE = 10\n",
    "MAX_TACTS = 15\n",
    "NUM_TACTS = MAX_TACTS - 1\n",
    "NUM_NODES = len(node_names)\n",
    "NUM_PEOPLE = MAX_PEOPLE + 1\n",
    "\n",
    "# Array will be encoded as {v[b,i,j], y[b,k]}\n",
    "# b = 0,...,NUM_BUSES-1\n",
    "# i = 1,...,NUM_TACTS-1\n",
    "# j = 0,...,NUM_NODES-1\n",
    "# k = 0,...,MAX_PEOPLE\n",
    "\n",
    "def get_index(inp : list) -> int:\n",
    "    \"\"\"\n",
    "    Returns integer index in big array of element v,b,i,j or y,b,k\n",
    "    \"\"\"\n",
    "    var = inp\n",
    "    if var[0] == \"v\":\n",
    "        return (MAX_TACTS-1)*NUM_NODES*int(var[1]) + NUM_NODES*(int(var[2]) - 1) + int(var[3])\n",
    "    elif var[0] == \"y\":\n",
    "        return NUM_BUSES*NUM_TACTS*NUM_NODES + (MAX_PEOPLE + 1)*int(var[1]) + int(var[2])"
   ]
  },
  {
   "cell_type": "code",
   "execution_count": 264,
   "id": "a4f48231",
   "metadata": {},
   "outputs": [],
   "source": [
    "SHAPE = NUM_BUSES*NUM_TACTS*NUM_NODES + NUM_BUSES*NUM_PEOPLE\n",
    "H = np.zeros((SHAPE, SHAPE))\n",
    "for b, j in itertools.product(range(NUM_BUSES), range(NUM_NODES)):\n",
    "    ind = get_index([\"v\",b,1,j])\n",
    "    H[ind, ind] += A[0,j]\n",
    "    ind = get_index([\"v\",b,NUM_TACTS,j])\n",
    "    H[ind, ind] += A[j,0]\n",
    "\n",
    "for b, i, j, jp in itertools.product(range(NUM_BUSES), range(1,MAX_TACTS-1), range(NUM_NODES), range(NUM_NODES)):\n",
    "    H[get_index([\"v\",b,i,j]), get_index([\"v\",b,i+1,jp])] += A[j,jp]"
   ]
  },
  {
   "cell_type": "code",
   "execution_count": 265,
   "id": "6da35420",
   "metadata": {},
   "outputs": [],
   "source": [
    "Lv = np.zeros((SHAPE, SHAPE))\n",
    "for b, i, j in itertools.product(range(NUM_BUSES), range(1,MAX_TACTS), range(NUM_NODES)):\n",
    "    Lv[get_index([\"v\",b,i,j]), get_index([\"v\",b,i,j])] -= 2\n",
    "for b, i, j, jp in itertools.product(range(NUM_BUSES), range(1,MAX_TACTS), range(NUM_NODES), range(NUM_NODES)):\n",
    "    Lv[get_index([\"v\",b,i,j]), get_index([\"v\",b,i,jp])] += 1"
   ]
  },
  {
   "cell_type": "code",
   "execution_count": 266,
   "id": "14369c05",
   "metadata": {},
   "outputs": [],
   "source": [
    "Ly = np.zeros((SHAPE, SHAPE))\n",
    "for b, k in itertools.product(range(NUM_BUSES), range(NUM_PEOPLE)):\n",
    "    ind = get_index([\"y\", b, k])\n",
    "    Ly[ind, ind] -= 2\n",
    "    \n",
    "for b, k, kp in itertools.product(range(NUM_BUSES), range(NUM_PEOPLE), range(NUM_PEOPLE)):\n",
    "    Ly[get_index([\"y\", b, k]), get_index([\"y\", b, kp])] += 1"
   ]
  },
  {
   "cell_type": "code",
   "execution_count": 267,
   "id": "d1a4cf1d",
   "metadata": {},
   "outputs": [],
   "source": [
    "L1 = np.zeros((SHAPE, SHAPE))\n",
    "for b in range(NUM_BUSES):\n",
    "    for i,ip,j,jp in itertools.product(range(1,MAX_TACTS), range(1,MAX_TACTS), \n",
    "                                       range(sights_start, NUM_NODES), range(sights_start, NUM_NODES)):\n",
    "        L1[get_index([\"v\", b, i, j]), get_index([\"v\", b, ip, jp])] += B[j]*B[jp]\n",
    "    \n",
    "    for k,kp in itertools.product(range(1, NUM_PEOPLE), range(1, NUM_PEOPLE)):\n",
    "        L1[get_index([\"y\", b, k]), get_index([\"y\", b, kp])] += k*kp\n",
    "        \n",
    "    for i,j,k in itertools.product(range(1, MAX_TACTS), range(sights_start, NUM_NODES), range(1, NUM_PEOPLE)):\n",
    "        L1[get_index([\"v\", b, i, j]), get_index([\"y\", b, k])] -= 2 * B[j] * k"
   ]
  },
  {
   "cell_type": "code",
   "execution_count": 268,
   "id": "8d3eb864",
   "metadata": {},
   "outputs": [],
   "source": [
    "L2 = np.zeros((SHAPE, SHAPE))\n",
    "for j in range(sights_start, NUM_NODES):\n",
    "    for b,i in itertools.product(range(NUM_BUSES), range(1, MAX_TACTS)):\n",
    "        ind = get_index([\"v\", b, i, j])\n",
    "        L2[ind, ind] -= 2\n",
    "        for bp,ip in itertools.product(range(NUM_BUSES), range(1, MAX_TACTS)):\n",
    "            ind2 = get_index([\"v\", bp, ip, j])\n",
    "            L2[ind, ind2] += 1"
   ]
  },
  {
   "cell_type": "code",
   "execution_count": 269,
   "id": "347fef3b",
   "metadata": {},
   "outputs": [],
   "source": [
    "L3 = np.zeros((SHAPE, SHAPE))\n",
    "for i,j in itertools.product(range(1, MAX_TACTS), range(1, NUM_NODES)):\n",
    "    for b,bp in itertools.combinations(range(NUM_BUSES), 2):\n",
    "        L3[get_index([\"v\", b, i, j]), get_index([\"v\", bp, i, j])] += 1"
   ]
  },
  {
   "cell_type": "code",
   "execution_count": 270,
   "id": "a2354592",
   "metadata": {},
   "outputs": [],
   "source": [
    "NUM_SIGHTS = NUM_NODES - sights_start\n",
    "Lv_ft = NUM_BUSES * NUM_TACTS\n",
    "Ly_ft = NUM_BUSES\n",
    "L2_ft = NUM_SIGHTS"
   ]
  },
  {
   "cell_type": "code",
   "execution_count": 299,
   "id": "e14e2733",
   "metadata": {},
   "outputs": [],
   "source": [
    "with open(\"weights.json\") as f:\n",
    "    weights = json.load(f)\n",
    "    Pv = weights[\"Pv\"]\n",
    "    Py = weights[\"Py\"]\n",
    "    P1 = weights[\"P1\"]\n",
    "    P2 = weights[\"P2\"]\n",
    "    P3 = weights[\"P3\"]    "
   ]
  },
  {
   "cell_type": "code",
   "execution_count": null,
   "id": "68130d23",
   "metadata": {},
   "outputs": [],
   "source": []
  },
  {
   "cell_type": "code",
   "execution_count": 284,
   "id": "7cc1e6f0",
   "metadata": {},
   "outputs": [],
   "source": [
    "Pv = 1\n",
    "Py = 2\n",
    "P1 = 1\n",
    "P2 = 1\n",
    "P3 = 1\n",
    "LvFT = Lv_ft*Pv\n",
    "LyFT = Ly_ft*Py\n",
    "L2FT = L2_ft*P2\n",
    "FREE_TERM = LvFT + LyFT + L2FT\n",
    "\n",
    "Qnp = H + Pv*Lv + Py*Ly + P1*L1 + P2*L2 + P3*L3\n",
    "Qnp = np.triu(Qnp + np.triu(Qnp.T, 1))\n",
    "\n",
    "Q = sp.sparse.coo_array(Qnp)"
   ]
  },
  {
   "cell_type": "code",
   "execution_count": 272,
   "id": "ed604575",
   "metadata": {
    "scrolled": true
   },
   "outputs": [
    {
     "data": {
      "text/plain": [
       "12135"
      ]
     },
     "execution_count": 272,
     "metadata": {},
     "output_type": "execute_result"
    }
   ],
   "source": [
    "SHAPE"
   ]
  },
  {
   "cell_type": "code",
   "execution_count": 285,
   "id": "ef8223b5",
   "metadata": {},
   "outputs": [
    {
     "data": {
      "text/plain": [
       "<12135x12135 sparse array of type '<class 'numpy.float64'>'\n",
       "\twith 3235290 stored elements in COOrdinate format>"
      ]
     },
     "execution_count": 285,
     "metadata": {},
     "output_type": "execute_result"
    }
   ],
   "source": [
    "Q"
   ]
  },
  {
   "cell_type": "code",
   "execution_count": 286,
   "id": "aff14d93",
   "metadata": {},
   "outputs": [],
   "source": [
    "with open(\"Qmat.txt\", mode='wt') as out_f:\n",
    "    out_f.write(f\"{SHAPE} {len(Q.row)}\\n\")\n",
    "    for c,r,d in zip(Q.col, Q.row, Q.data):\n",
    "        out_f.write(f\"{r+1} {c+1} {d}\\n\")"
   ]
  },
  {
   "cell_type": "code",
   "execution_count": 208,
   "id": "05f3f448",
   "metadata": {},
   "outputs": [],
   "source": [
    "tst = sp.sparse.coo_array(np.arange(4).reshape((2,2)))"
   ]
  },
  {
   "cell_type": "code",
   "execution_count": 219,
   "id": "ea910a50",
   "metadata": {},
   "outputs": [
    {
     "data": {
      "text/plain": [
       "array([[ 0,  1,  2,  3],\n",
       "       [ 0,  0,  6,  7],\n",
       "       [ 0,  0,  0, 11],\n",
       "       [ 0,  0,  0,  0]])"
      ]
     },
     "execution_count": 219,
     "metadata": {},
     "output_type": "execute_result"
    }
   ],
   "source": [
    "np.triu(np.arange(16).reshape((4,4)), 1)"
   ]
  },
  {
   "cell_type": "code",
   "execution_count": 188,
   "id": "e3cbc45a",
   "metadata": {},
   "outputs": [
    {
     "data": {
      "text/plain": [
       "array([[  0.,   0.,   0., ...,   0.,   0.,   0.],\n",
       "       [  0., 100.,   0., ...,   0.,   0.,   0.],\n",
       "       [  0.,   0., 100., ...,   0.,   0.,   0.],\n",
       "       ...,\n",
       "       [  0.,   0.,   0., ..., 100.,   0.,   0.],\n",
       "       [  0.,   0.,   0., ...,   0., 100.,   0.],\n",
       "       [  0.,   0.,   0., ...,   0.,   0., 100.]])"
      ]
     },
     "execution_count": 188,
     "metadata": {},
     "output_type": "execute_result"
    }
   ],
   "source": [
    "ARR_SHAPE_V = (NUM_BUSES, NUM_TACTS, NUM_NODES)\n",
    "SHAPE_V = NUM_BUSES*NUM_TACTS*NUM_NODES\n",
    "ARR_SHAPE_Y = (NUM_BUSES, NUM_PEOPLE)\n",
    "SHAPE_Y = NUM_BUSES*NUM_PEOPLE\n",
    "\n",
    "Hij = np.zeros((NUM_TACTS, NUM_NODES, NUM_TACTS, NUM_NODES))\n",
    "Hij[0,:,0,:] = np.diag(A[0,:])    # first term\n",
    "Hij[-1,:,-1,:] = np.diag(A[:,0])  # last term\n",
    "for i in range(NUM_TACTS - 1):\n",
    "    Hij[i,:,i+1,:] += A\n",
    "Ht = np.reshape(np.einsum(\"ab,ijkl->aijbkl\", np.eye(NUM_BUSES), Hij), (SHAPE_V, SHAPE_V))\n",
    "\n",
    "np.reshape(Hij, (NUM_TACTS*NUM_NODES, NUM_TACTS*NUM_NODES))"
   ]
  },
  {
   "cell_type": "code",
   "execution_count": 275,
   "id": "ec1532a7",
   "metadata": {},
   "outputs": [],
   "source": [
    "def check_constraints(Lmat, vec, free_term=0):\n",
    "    return vec.T @ Lmat @ vec + free_term"
   ]
  },
  {
   "cell_type": "code",
   "execution_count": 246,
   "id": "f3135186",
   "metadata": {},
   "outputs": [],
   "source": [
    "import json"
   ]
  },
  {
   "cell_type": "code",
   "execution_count": 287,
   "id": "04c64e81",
   "metadata": {},
   "outputs": [],
   "source": [
    "with open(\"output (1).json\", mode='rt') as in_f:\n",
    "    res = json.load(in_f)"
   ]
  },
  {
   "cell_type": "code",
   "execution_count": 291,
   "id": "3f1edd9e",
   "metadata": {},
   "outputs": [],
   "source": [
    "sol_vec = np.asarray(res[\"Solution\"], dtype=int)"
   ]
  },
  {
   "cell_type": "code",
   "execution_count": 292,
   "id": "29804e68",
   "metadata": {},
   "outputs": [
    {
     "data": {
      "text/plain": [
       "8065"
      ]
     },
     "execution_count": 292,
     "metadata": {},
     "output_type": "execute_result"
    }
   ],
   "source": [
    "res[\"Objective\"] + FREE_TERM"
   ]
  },
  {
   "cell_type": "code",
   "execution_count": 294,
   "id": "eab5c6f3",
   "metadata": {},
   "outputs": [
    {
     "name": "stdout",
     "output_type": "stream",
     "text": [
      "Constraint Lv=183.0\n",
      "Constraint Ly=207.0\n",
      "Constraint L1=6630.0\n",
      "Constraint L2=186.0\n",
      "Constraint L3=3.0\n"
     ]
    }
   ],
   "source": [
    "print(f\"Constraint Lv={check_constraints(Lv, sol_vec, LvFT)}\")\n",
    "print(f\"Constraint Ly={check_constraints(Ly, sol_vec, LyFT)}\")\n",
    "print(f\"Constraint L1={check_constraints(L1, sol_vec, 0)}\")\n",
    "print(f\"Constraint L2={check_constraints(L2, sol_vec, L2FT)}\")\n",
    "print(f\"Constraint L3={check_constraints(L3, sol_vec, 0)}\")"
   ]
  },
  {
   "cell_type": "code",
   "execution_count": 301,
   "id": "2b07fb54",
   "metadata": {},
   "outputs": [
    {
     "name": "stdout",
     "output_type": "stream",
     "text": [
      "smth12\n"
     ]
    }
   ],
   "source": [
    "s = input(\"smth\")"
   ]
  },
  {
   "cell_type": "code",
   "execution_count": 302,
   "id": "494cbe48",
   "metadata": {},
   "outputs": [
    {
     "data": {
      "text/plain": [
       "'12'"
      ]
     },
     "execution_count": 302,
     "metadata": {},
     "output_type": "execute_result"
    }
   ],
   "source": [
    "s"
   ]
  },
  {
   "cell_type": "code",
   "execution_count": null,
   "id": "f18f9383",
   "metadata": {},
   "outputs": [],
   "source": []
  }
 ],
 "metadata": {
  "kernelspec": {
   "display_name": "Python 3 (ipykernel)",
   "language": "python",
   "name": "python3"
  },
  "language_info": {
   "codemirror_mode": {
    "name": "ipython",
    "version": 3
   },
   "file_extension": ".py",
   "mimetype": "text/x-python",
   "name": "python",
   "nbconvert_exporter": "python",
   "pygments_lexer": "ipython3",
   "version": "3.11.4"
  }
 },
 "nbformat": 4,
 "nbformat_minor": 5
}
